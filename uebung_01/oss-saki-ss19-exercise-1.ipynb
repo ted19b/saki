{
  "cells": [
    {
      "cell_type": "markdown",
      "metadata": {
        "pycharm": {
          "metadata": false
        }
      },
      "source": "## Import of python librairies\n    We start by importing all the librairies necessary for ourn work.\n    * Pandas : with this library we will be able to import our data in the form of a multidimensional table and thus \n    handle them more easily.\n    * Matplotlib : it will allow us to draw the diagrams that will facilitate the analysis of our data.\n    * Scikit-learn : this library contains the implementation of the model we will use for classification.\n    "
    },
    {
      "cell_type": "code",
      "execution_count": 1,
      "metadata": {
        "pycharm": {
          "is_executing": false,
          "metadata": false,
          "name": "#%%\n"
        }
      },
      "outputs": [],
      "source": "import pandas as pd\nimport matplotlib.pyplot as plt\nimport seaborn as sns\nimport sklearn as sk\nfrom sklearn.model_selection import train_test_split\nfrom sklearn.naive_bayes import BernoulliNB\n"
    },
    {
      "cell_type": "markdown",
      "metadata": {
        "pycharm": {
          "metadata": false,
          "name": "#%% md\n"
        }
      },
      "source": "## Plan of work\n\nWe will work according to the data scientist cycle. Although the one we will propose is \nby no means absolute, because it varies a lot according to the documentation and opinions, \nbut we have decided on this one, for its simplicity \n\n    1. Data Collection\n    2. Data Cleaning\n    3. Data Mining (Data Exploration)\n    4. Training\n    5. Evaluation \u0026 Interpretation\n    6. Production (Testing) \n\n"
    },
    {
      "cell_type": "markdown",
      "metadata": {
        "pycharm": {
          "metadata": false,
          "name": "#%% md\n"
        }
      },
      "source": "## I. Data Collection \n* for this simple step we will just retrieve the file that contains our data and store \nthe information in a variable using the pandas library.\n        by default the information is separated in a csv file by a \u0027,\u0027\n        in our case it is one \u0027;\u0027 then we must mention this when importing\n        \n* We will also display a few lines in a table to make sure that the import went well.\n"
    },
    {
      "cell_type": "code",
      "execution_count": 2,
      "metadata": {
        "pycharm": {
          "is_executing": false,
          "metadata": false,
          "name": "#%%\n"
        }
      },
      "outputs": [
        {
          "data": {
            "text/html": [
              "\u003cdiv\u003e\n",
              "\u003cstyle scoped\u003e\n",
              "    .dataframe tbody tr th:only-of-type {\n",
              "        vertical-align: middle;\n",
              "    }\n",
              "\n",
              "    .dataframe tbody tr th {\n",
              "        vertical-align: top;\n",
              "    }\n",
              "\n",
              "    .dataframe thead th {\n",
              "        text-align: right;\n",
              "    }\n",
              "\u003c/style\u003e\n",
              "\u003ctable border\u003d\"1\" class\u003d\"dataframe\"\u003e\n",
              "  \u003cthead\u003e\n",
              "    \u003ctr style\u003d\"text-align: right;\"\u003e\n",
              "      \u003cth\u003e\u003c/th\u003e\n",
              "      \u003cth\u003eAuftragskonto\u003c/th\u003e\n",
              "      \u003cth\u003eBuchungstag\u003c/th\u003e\n",
              "      \u003cth\u003eValutadatum\u003c/th\u003e\n",
              "      \u003cth\u003eBuchungstext\u003c/th\u003e\n",
              "      \u003cth\u003eVerwendungszweck\u003c/th\u003e\n",
              "      \u003cth\u003eBeguenstigter/Zahlungspflichtiger\u003c/th\u003e\n",
              "      \u003cth\u003eKontonummer\u003c/th\u003e\n",
              "      \u003cth\u003eBLZ\u003c/th\u003e\n",
              "      \u003cth\u003eBetrag\u003c/th\u003e\n",
              "      \u003cth\u003eWaehrung\u003c/th\u003e\n",
              "      \u003cth\u003elabel\u003c/th\u003e\n",
              "    \u003c/tr\u003e\n",
              "  \u003c/thead\u003e\n",
              "  \u003ctbody\u003e\n",
              "    \u003ctr\u003e\n",
              "      \u003cth\u003e0\u003c/th\u003e\n",
              "      \u003ctd\u003e89990201.0\u003c/td\u003e\n",
              "      \u003ctd\u003e28.07.2016\u003c/td\u003e\n",
              "      \u003ctd\u003e28.07.2016\u003c/td\u003e\n",
              "      \u003ctd\u003eLohn / Gehalt\u003c/td\u003e\n",
              "      \u003ctd\u003eGehalt Adorsys GmbH \u0026amp; Co. KG End-To-End-Ref.: ...\u003c/td\u003e\n",
              "      \u003ctd\u003eAdorsys GmbH \u0026amp; Co. KG\u003c/td\u003e\n",
              "      \u003ctd\u003e7807800780\u003c/td\u003e\n",
              "      \u003ctd\u003e25190001\u003c/td\u003e\n",
              "      \u003ctd\u003e2000.00\u003c/td\u003e\n",
              "      \u003ctd\u003eEUR\u003c/td\u003e\n",
              "      \u003ctd\u003eincome\u003c/td\u003e\n",
              "    \u003c/tr\u003e\n",
              "    \u003ctr\u003e\n",
              "      \u003cth\u003e1\u003c/th\u003e\n",
              "      \u003ctd\u003e89990201.0\u003c/td\u003e\n",
              "      \u003ctd\u003e27.07.2016\u003c/td\u003e\n",
              "      \u003ctd\u003e27.07.2016\u003c/td\u003e\n",
              "      \u003ctd\u003eMiete\u003c/td\u003e\n",
              "      \u003ctd\u003eByladem1Sbt De12773501123456789889 Miete Beuth...\u003c/td\u003e\n",
              "      \u003ctd\u003eGeorg Tasche\u003c/td\u003e\n",
              "      \u003ctd\u003eDE31251900019123456780\u003c/td\u003e\n",
              "      \u003ctd\u003eVOHADE2HXXX\u003c/td\u003e\n",
              "      \u003ctd\u003e-670.00\u003c/td\u003e\n",
              "      \u003ctd\u003eEUR\u003c/td\u003e\n",
              "      \u003ctd\u003eliving\u003c/td\u003e\n",
              "    \u003c/tr\u003e\n",
              "    \u003ctr\u003e\n",
              "      \u003cth\u003e2\u003c/th\u003e\n",
              "      \u003ctd\u003e89990201.0\u003c/td\u003e\n",
              "      \u003ctd\u003e21.07.2016\u003c/td\u003e\n",
              "      \u003ctd\u003e21.07.2016\u003c/td\u003e\n",
              "      \u003ctd\u003eBargeld\u003c/td\u003e\n",
              "      \u003ctd\u003e21.07/16.34Uhr Nuernberg All Eur 70,00 Geb.Eur...\u003c/td\u003e\n",
              "      \u003ctd\u003eBargeld\u003c/td\u003e\n",
              "      \u003ctd\u003e9999900780\u003c/td\u003e\n",
              "      \u003ctd\u003e25190001\u003c/td\u003e\n",
              "      \u003ctd\u003e-70.00\u003c/td\u003e\n",
              "      \u003ctd\u003eEUR\u003c/td\u003e\n",
              "      \u003ctd\u003eprivate\u003c/td\u003e\n",
              "    \u003c/tr\u003e\n",
              "    \u003ctr\u003e\n",
              "      \u003cth\u003e3\u003c/th\u003e\n",
              "      \u003ctd\u003e89990201.0\u003c/td\u003e\n",
              "      \u003ctd\u003e20.07.2016\u003c/td\u003e\n",
              "      \u003ctd\u003e20.07.2016\u003c/td\u003e\n",
              "      \u003ctd\u003eLebensmittel / Getraenke\u003c/td\u003e\n",
              "      \u003ctd\u003e2831 Edeka Neubauer Nuernb.//Nuernb 2016-07-20...\u003c/td\u003e\n",
              "      \u003ctd\u003eKartenzahlung\u003c/td\u003e\n",
              "      \u003ctd\u003e9736000780\u003c/td\u003e\n",
              "      \u003ctd\u003e25190001\u003c/td\u003e\n",
              "      \u003ctd\u003e-73.21\u003c/td\u003e\n",
              "      \u003ctd\u003eEUR\u003c/td\u003e\n",
              "      \u003ctd\u003estandardOfLiving\u003c/td\u003e\n",
              "    \u003c/tr\u003e\n",
              "    \u003ctr\u003e\n",
              "      \u003cth\u003e4\u003c/th\u003e\n",
              "      \u003ctd\u003e89990201.0\u003c/td\u003e\n",
              "      \u003ctd\u003e18.07.2016\u003c/td\u003e\n",
              "      \u003ctd\u003e18.07.2016\u003c/td\u003e\n",
              "      \u003ctd\u003eSpontanausgabe\u003c/td\u003e\n",
              "      \u003ctd\u003eAmazon\u003c/td\u003e\n",
              "      \u003ctd\u003eneue Playstation\u003c/td\u003e\n",
              "      \u003ctd\u003e9988776655\u003c/td\u003e\n",
              "      \u003ctd\u003e25125100\u003c/td\u003e\n",
              "      \u003ctd\u003e-363\u003c/td\u003e\n",
              "      \u003ctd\u003eEUR\u003c/td\u003e\n",
              "      \u003ctd\u003eleisure\u003c/td\u003e\n",
              "    \u003c/tr\u003e\n",
              "  \u003c/tbody\u003e\n",
              "\u003c/table\u003e\n",
              "\u003c/div\u003e"
            ],
            "text/plain": [
              "   Auftragskonto Buchungstag Valutadatum              Buchungstext  \\\n",
              "0     89990201.0  28.07.2016  28.07.2016             Lohn / Gehalt   \n",
              "1     89990201.0  27.07.2016  27.07.2016                     Miete   \n",
              "2     89990201.0  21.07.2016  21.07.2016                   Bargeld   \n",
              "3     89990201.0  20.07.2016  20.07.2016  Lebensmittel / Getraenke   \n",
              "4     89990201.0  18.07.2016  18.07.2016            Spontanausgabe   \n",
              "\n",
              "                                    Verwendungszweck  \\\n",
              "0  Gehalt Adorsys GmbH \u0026 Co. KG End-To-End-Ref.: ...   \n",
              "1  Byladem1Sbt De12773501123456789889 Miete Beuth...   \n",
              "2  21.07/16.34Uhr Nuernberg All Eur 70,00 Geb.Eur...   \n",
              "3  2831 Edeka Neubauer Nuernb.//Nuernb 2016-07-20...   \n",
              "4                                             Amazon   \n",
              "\n",
              "  Beguenstigter/Zahlungspflichtiger             Kontonummer          BLZ  \\\n",
              "0             Adorsys GmbH \u0026 Co. KG              7807800780     25190001   \n",
              "1                      Georg Tasche  DE31251900019123456780  VOHADE2HXXX   \n",
              "2                           Bargeld              9999900780     25190001   \n",
              "3                     Kartenzahlung              9736000780     25190001   \n",
              "4                  neue Playstation              9988776655     25125100   \n",
              "\n",
              "    Betrag Waehrung             label  \n",
              "0  2000.00      EUR            income  \n",
              "1  -670.00      EUR            living  \n",
              "2   -70.00      EUR           private  \n",
              "3   -73.21      EUR  standardOfLiving  \n",
              "4     -363      EUR           leisure  "
            ]
          },
          "execution_count": 2,
          "metadata": {},
          "output_type": "execute_result"
        }
      ],
      "source": [
        "# import file into a variable\n",
        "data_set \u003d pd.read_csv(\u0027transaction_training_set.csv\u0027, sep\u003d\u0027;\u0027)\n",
        "\n",
        "#we can see the appearance of the unnamed column that was automatically added, \n",
        "# when the file was imported. We will delete the column from our data_set\n",
        "column_to_drop \u003d [\u0027Unnamed: 0\u0027]\n",
        "data_set.drop(column_to_drop, inplace\u003dTrue, axis\u003d1)\n",
        "\n",
        "# display teh 5 first line of our set\n",
        "data_set.head()\n",
        "\n"
      ]
    },
    {
      "cell_type": "markdown",
      "metadata": {
        "pycharm": {
          "metadata": false,
          "name": "#%% md\n"
        }
      },
      "source": "* In order to properly test our model, it would be nice to divide our dataset into 2 parts, \none for model training and another part to evaluate the model and see its accuracy.\n"
    },
    {
      "cell_type": "code",
      "execution_count": 3,
      "metadata": {
        "pycharm": {
          "is_executing": false,
          "metadata": false,
          "name": "#%%\n"
        }
      },
      "outputs": [],
      "source": "# split the data_set into 2 sets (training_set and evaluation_set)\nlabels \u003d data_set[\u0027label\u0027].copy()\ndata_set_without_label \u003d data_set.drop(\u0027label\u0027, axis\u003d1)\nX_train, X_test, y_train, y_test \u003d train_test_split(data_set_without_label, labels, test_size\u003d0.3, shuffle\u003dTrue)\n\n"
    },
    {
      "cell_type": "markdown",
      "metadata": {
        "pycharm": {
          "metadata": false
        }
      },
      "source": "## II. Data cleaning\nCleaning up data is about making sure it is consistent, without outliers or missing values.\n\n* one of the tasks we can do here is to convert the data type of the Betrag column into a numerical type in order to \nfacilitate the different calculations that could be done when studying this variable.\n"
    },
    {
      "cell_type": "code",
      "execution_count": null,
      "outputs": [],
      "source": "serie \u003d pd.Series(data_set[\"Betrag\"])\nindex \u003d 0\nfor row in serie:\n    tmp \u003d row.replace(\u0027,\u0027, \u0027.\u0027)\n    serie[index] \u003d float(tmp)\n    index +\u003d 1\n    ",
      "metadata": {
        "pycharm": {
          "metadata": false,
          "name": "#%%\n"
        }
      }
    },
    {
      "cell_type": "markdown",
      "metadata": {
        "pycharm": {
          "metadata": false,
          "name": "#%% md\n"
        }
      },
      "source": "## III. Data Exploration\n\nThe quality of our input data determines the quality of our output result.\n\n### 1. Feature Engineering\n\n####  a) Feature Selection\n\n*  the \"Auftragskonto\" column only tells us where the different financial transactions come from and not the type of transaction itself. \n    We therefore find this column not very useful for the analysis of our data and the choice of model\n    \n* The 2 columns \"Buchungstag\" and \"Valutadatum\" have almost the same values except for a few cases where they are different.\n    For this reason we will delete the column \"Valutadatum\", because otherwise we will have almost a duplicate of information.\n    \n* \u0027Kontonummer\u0027, \u0027BLZ\u0027, \u0027Waehrung\u0027 do not provide important information for the classification of financial transactions \n    and will therefore also be deleted\n"
    },
    {
      "cell_type": "code",
      "execution_count": 4,
      "metadata": {
        "pycharm": {
          "is_executing": false,
          "metadata": false,
          "name": "#%%\n"
        }
      },
      "outputs": [
        {
          "data": {
            "text/html": [
              "\u003cdiv\u003e\n",
              "\u003cstyle scoped\u003e\n",
              "    .dataframe tbody tr th:only-of-type {\n",
              "        vertical-align: middle;\n",
              "    }\n",
              "\n",
              "    .dataframe tbody tr th {\n",
              "        vertical-align: top;\n",
              "    }\n",
              "\n",
              "    .dataframe thead th {\n",
              "        text-align: right;\n",
              "    }\n",
              "\u003c/style\u003e\n",
              "\u003ctable border\u003d\"1\" class\u003d\"dataframe\"\u003e\n",
              "  \u003cthead\u003e\n",
              "    \u003ctr style\u003d\"text-align: right;\"\u003e\n",
              "      \u003cth\u003e\u003c/th\u003e\n",
              "      \u003cth\u003eBuchungstag\u003c/th\u003e\n",
              "      \u003cth\u003eBuchungstext\u003c/th\u003e\n",
              "      \u003cth\u003eVerwendungszweck\u003c/th\u003e\n",
              "      \u003cth\u003eBeguenstigter/Zahlungspflichtiger\u003c/th\u003e\n",
              "      \u003cth\u003eBetrag\u003c/th\u003e\n",
              "      \u003cth\u003elabel\u003c/th\u003e\n",
              "    \u003c/tr\u003e\n",
              "  \u003c/thead\u003e\n",
              "  \u003ctbody\u003e\n",
              "    \u003ctr\u003e\n",
              "      \u003cth\u003e0\u003c/th\u003e\n",
              "      \u003ctd\u003e28.07.2016\u003c/td\u003e\n",
              "      \u003ctd\u003eLohn / Gehalt\u003c/td\u003e\n",
              "      \u003ctd\u003eGehalt Adorsys GmbH \u0026amp; Co. KG End-To-End-Ref.: ...\u003c/td\u003e\n",
              "      \u003ctd\u003eAdorsys GmbH \u0026amp; Co. KG\u003c/td\u003e\n",
              "      \u003ctd\u003e2000.00\u003c/td\u003e\n",
              "      \u003ctd\u003eincome\u003c/td\u003e\n",
              "    \u003c/tr\u003e\n",
              "    \u003ctr\u003e\n",
              "      \u003cth\u003e1\u003c/th\u003e\n",
              "      \u003ctd\u003e27.07.2016\u003c/td\u003e\n",
              "      \u003ctd\u003eMiete\u003c/td\u003e\n",
              "      \u003ctd\u003eByladem1Sbt De12773501123456789889 Miete Beuth...\u003c/td\u003e\n",
              "      \u003ctd\u003eGeorg Tasche\u003c/td\u003e\n",
              "      \u003ctd\u003e-670.00\u003c/td\u003e\n",
              "      \u003ctd\u003eliving\u003c/td\u003e\n",
              "    \u003c/tr\u003e\n",
              "    \u003ctr\u003e\n",
              "      \u003cth\u003e2\u003c/th\u003e\n",
              "      \u003ctd\u003e21.07.2016\u003c/td\u003e\n",
              "      \u003ctd\u003eBargeld\u003c/td\u003e\n",
              "      \u003ctd\u003e21.07/16.34Uhr Nuernberg All Eur 70,00 Geb.Eur...\u003c/td\u003e\n",
              "      \u003ctd\u003eBargeld\u003c/td\u003e\n",
              "      \u003ctd\u003e-70.00\u003c/td\u003e\n",
              "      \u003ctd\u003eprivate\u003c/td\u003e\n",
              "    \u003c/tr\u003e\n",
              "    \u003ctr\u003e\n",
              "      \u003cth\u003e3\u003c/th\u003e\n",
              "      \u003ctd\u003e20.07.2016\u003c/td\u003e\n",
              "      \u003ctd\u003eLebensmittel / Getraenke\u003c/td\u003e\n",
              "      \u003ctd\u003e2831 Edeka Neubauer Nuernb.//Nuernb 2016-07-20...\u003c/td\u003e\n",
              "      \u003ctd\u003eKartenzahlung\u003c/td\u003e\n",
              "      \u003ctd\u003e-73.21\u003c/td\u003e\n",
              "      \u003ctd\u003estandardOfLiving\u003c/td\u003e\n",
              "    \u003c/tr\u003e\n",
              "    \u003ctr\u003e\n",
              "      \u003cth\u003e4\u003c/th\u003e\n",
              "      \u003ctd\u003e18.07.2016\u003c/td\u003e\n",
              "      \u003ctd\u003eSpontanausgabe\u003c/td\u003e\n",
              "      \u003ctd\u003eAmazon\u003c/td\u003e\n",
              "      \u003ctd\u003eneue Playstation\u003c/td\u003e\n",
              "      \u003ctd\u003e-363\u003c/td\u003e\n",
              "      \u003ctd\u003eleisure\u003c/td\u003e\n",
              "    \u003c/tr\u003e\n",
              "  \u003c/tbody\u003e\n",
              "\u003c/table\u003e\n",
              "\u003c/div\u003e"
            ],
            "text/plain": [
              "  Buchungstag              Buchungstext  \\\n",
              "0  28.07.2016             Lohn / Gehalt   \n",
              "1  27.07.2016                     Miete   \n",
              "2  21.07.2016                   Bargeld   \n",
              "3  20.07.2016  Lebensmittel / Getraenke   \n",
              "4  18.07.2016            Spontanausgabe   \n",
              "\n",
              "                                    Verwendungszweck  \\\n",
              "0  Gehalt Adorsys GmbH \u0026 Co. KG End-To-End-Ref.: ...   \n",
              "1  Byladem1Sbt De12773501123456789889 Miete Beuth...   \n",
              "2  21.07/16.34Uhr Nuernberg All Eur 70,00 Geb.Eur...   \n",
              "3  2831 Edeka Neubauer Nuernb.//Nuernb 2016-07-20...   \n",
              "4                                             Amazon   \n",
              "\n",
              "  Beguenstigter/Zahlungspflichtiger   Betrag             label  \n",
              "0             Adorsys GmbH \u0026 Co. KG  2000.00            income  \n",
              "1                      Georg Tasche  -670.00            living  \n",
              "2                           Bargeld   -70.00           private  \n",
              "3                     Kartenzahlung   -73.21  standardOfLiving  \n",
              "4                  neue Playstation     -363           leisure  "
            ]
          },
          "execution_count": 4,
          "metadata": {},
          "output_type": "execute_result"
        }
      ],
      "source": [
        "to_drop \u003d [\u0027Auftragskonto\u0027, \u0027Valutadatum\u0027, \u0027Kontonummer\u0027, \u0027BLZ\u0027, \u0027Waehrung\u0027]\n",
        "data_set.drop(to_drop, inplace\u003dTrue, axis\u003d1)\n",
        "\n",
        "# let\u0027s see what our data currently looks like\n",
        "data_set.head()\n",
        "\n"
      ]
    },
    {
      "cell_type": "markdown",
      "metadata": {
        "pycharm": {
          "metadata": false,
          "name": "#%% md\n"
        }
      },
      "source": "##### b) Feature Extraction\n* In the date only the day and month have a certain importance, the year on the other hand does not provide us any information on the nature of the transaction.\nThe day on the other hand can inform us about the type of transaction, indeed it is rather logical to have at the end of the month transactions such as rent or salary.\n\n"
    },
    {
      "cell_type": "markdown",
      "metadata": {
        "pycharm": {
          "metadata": false,
          "name": "#%% md\n"
        }
      },
      "source": "### 2. Exploration Data Analysis\nBelow are the steps involved to understand, and prepare our data for building our predictive model.\n    \n    a. Variable Identification\n    b. Univariate Analysis\n    c. Bi-variate Analysis\n    d. Missing values treatment\n    e. Outlier treatment\n   \n##### a. Variable Identification\n\n* Type of variable\n\n\u003e 1- Predictor Variable\n- Buchungstext\n- verwendungszweck\n- Beguenstigter/Zahlungspflichtiger\n- Betrag\n\n\u003e 2- Target variable\n- label\n\n\n* Data Type\n\n\u003e 1- Character\n- Buchungstext\n- Verwendungszweck\n- Beguenstigter/Zahlungspflichtiger\n- label\n\n\u003e 2- Numeric\n- Betrag\n\n"
    },
    {
      "cell_type": "markdown",
      "source": "##### b. Univariate Analysis\n* This part will allow us to explore the variables one by one. The analysis method we will use will depend \non the nature of our variable (if it is a continuous variable for example).\n\n* For categorical variables (Buchungstext, Verwendungszweck, Beguenstigter/Zahlungspflichtiger) , we’ll use frequency table to understand distribution of each category. We can also read as percentage of values under each category.\nBar chart or pie chart can be used as visualization.\n\n",
      "metadata": {
        "pycharm": {
          "metadata": false,
          "name": "#%% md\n"
        }
      }
    },
    {
      "cell_type": "markdown",
      "source": "* let\u0027s also analyze the frequency of the values of the variable \"Beguenstigter/Zahlungspflichtiger\".\n",
      "metadata": {
        "pycharm": {
          "metadata": false,
          "name": "#%% md\n"
        }
      }
    },
    {
      "cell_type": "code",
      "execution_count": 5,
      "metadata": {
        "pycharm": {
          "is_executing": false,
          "metadata": false,
          "name": "#%%\n"
        }
      },
      "outputs": [
        {
          "data": {
            "image/png": "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\u003d\u003d\n",
            "text/plain": [
              "\u003cFigure size 432x288 with 1 Axes\u003e"
            ]
          },
          "metadata": {
            "needs_background": "light"
          },
          "output_type": "display_data"
        }
      ],
      "source": "# variable Beguenstigter/Zahlungspflichtiger\ndata_set[\u0027Beguenstigter/Zahlungspflichtiger\u0027].value_counts(normalize\u003dTrue).plot(kind\u003d\u0027bar\u0027)\nplt.title(\"Distribution of variable Beguenstigter/Zahlungspflichtiger\")\nplt.show()\n\n"
    },
    {
      "cell_type": "markdown",
      "metadata": {
        "pycharm": {
          "metadata": false,
          "name": "#%% md\n"
        }
      },
      "source": "* frequency table for the variable \"Buchungstext\".\n"
    },
    {
      "cell_type": "code",
      "execution_count": 6,
      "metadata": {
        "pycharm": {
          "is_executing": false,
          "metadata": false,
          "name": "#%%\n"
        }
      },
      "outputs": [
        {
          "data": {
            "image/png": "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\u003d\u003d\n",
            "text/plain": [
              "\u003cFigure size 432x288 with 1 Axes\u003e"
            ]
          },
          "metadata": {
            "needs_background": "light"
          },
          "output_type": "display_data"
        }
      ],
      "source": "# bar chart for variable Buchungstext\ndata_set[\u0027Buchungstext\u0027].value_counts(normalize\u003dTrue).plot(kind\u003d\u0027bar\u0027, width\u003d0.5)\nplt.title(\"Distribution of variable Buchungstext\")\nplt.show()\n        \n"
    },
    {
      "cell_type": "markdown",
      "source": "#### c. Bi-variate Analysis\n* the notion of the relationship between variables is called correlation. To say that two variables are correlated means \nthat if we know the value of one variable, then it is possible to have an indication (more or less precise) \non the value of another variable.\n* Here, we look for association and disassociation between variables at a pre-defined significance level. \nWe can perform bi-variate analysis for any combination of categorical and continuous variables.\n\n\u003e 2 Continuous  variable --\u003e scatterplot\n\n\u003e 2 Categorical variable --\u003e  Two-way table, Chi-2\n\n\u003e 1 Categorical and 1 Continuous --\u003e ANOVA\n",
      "metadata": {
        "pycharm": {
          "metadata": false,
          "name": "#%% md\n"
        }
      }
    },
    {
      "cell_type": "markdown",
      "source": "let\u0027s look at a correlation between the variables \"Buchungstext\" and \"label\".\n\n* Analyse : As we can see on the diagram, with the exception of \"Lastschrift (Einzugsermächtigung)\", each value of the variable \n\"Buchungstext\" is assigned to a single label value showing a correlation between the 2 variables.\n",
      "metadata": {
        "pycharm": {
          "metadata": false,
          "name": "#%% md\n"
        }
      }
    },
    {
      "cell_type": "code",
      "execution_count": null,
      "outputs": [],
      "source": "Y \u003d \"label\"\nX \u003d \"Buchungstext\"\n\nc \u003d data_set[[X,Y]].pivot_table(index\u003dX,columns\u003dY,aggfunc\u003dlen)\ncont \u003d c.copy()\n\ntx \u003d data_set[X].value_counts()\nty \u003d data_set[Y].value_counts()\n\ntx \u003d pd.DataFrame(tx)\nty \u003d pd.DataFrame(ty)\ntx.columns \u003d [\"foo\"]\nty.columns \u003d [\"foo\"]\nn \u003d len(data_set)\nindep \u003d tx.dot(ty.T) / n\n\n\nc \u003d c.fillna(0) # we replace the null values by 0\nmesure \u003d (c - indep)**2 / indep\nxi_n \u003d mesure.sum().sum()\nsns.heatmap(mesure/xi_n,annot\u003dc)\nplt.show()\n",
      "metadata": {
        "pycharm": {
          "metadata": false,
          "name": "#%%\n"
        }
      }
    },
    {
      "cell_type": "markdown",
      "source": "look for a correlation between the variable \"Beguenstigter/Zahlungspflichtiger\" and \"label\"\n\n* Analyse : The rows represents the category of \"Beguenstigter/Zahlungspflichtiger\" and the columns \nrepresent the categories of the other variable(\"label\"). \nHere too, it can be seen that the presence or absence of a value of the variable can almost reflect the belonging to a very specific category.\n",
      "metadata": {
        "pycharm": {
          "metadata": false
        }
      }
    },
    {
      "cell_type": "code",
      "execution_count": null,
      "outputs": [],
      "source": "Y \u003d \"label\"\nX \u003d \"Beguenstigter/Zahlungspflichtiger\"\n\nc \u003d data_set[[X,Y]].pivot_table(index\u003dX,columns\u003dY,aggfunc\u003dlen)\ncont \u003d c.copy()\n\ntx \u003d data_set[X].value_counts()\nty \u003d data_set[Y].value_counts()\n\ncont.loc[:,\"Total\"] \u003d tx\ncont.loc[\"total\",:] \u003d ty\ncont.loc[\"total\",\"Total\"] \u003d len(data_set)\ncont\n",
      "metadata": {
        "pycharm": {
          "metadata": false,
          "name": "#%%\n"
        }
      }
    },
    {
      "cell_type": "markdown",
      "source": "look for a correlation between the variable \"Beguenstigter/Zahlungspflichtiger\" and \"Buchungstext\"\n\n* Analyse : the table below already confirms the trend observed in the 2 previous analyses. \nIndeed, if we take for example \"Adorsys GmbH \u0026 Co. KG\" which is a value of the variable \"Beguenstigter/Zahlungspflichtiger\", \nwe can notice that it appears in data having for Buchungstext \"Gehalt/Rente\" and \"Lohn / Gehalt\". \nthese 2 values of the variable Buchungstext are also significant for belonging to the category \"income\".\nIn the previous analysis, we also noted that the term \"Adorsys GmbH \u0026 Co. KG\" of the variable could be an indicator of the category \"income\".\n",
      "metadata": {
        "pycharm": {
          "metadata": false
        }
      }
    },
    {
      "cell_type": "code",
      "execution_count": null,
      "outputs": [],
      "source": "Y \u003d \"Buchungstext\"\nX \u003d \"Beguenstigter/Zahlungspflichtiger\"\n\nc \u003d data_set[[X,Y]].pivot_table(index\u003dX,columns\u003dY,aggfunc\u003dlen)\ncont \u003d c.copy()\n\ntx \u003d data_set[X].value_counts()\nty \u003d data_set[Y].value_counts()\n\ncont.loc[:,\"Total\"] \u003d tx\ncont.loc[\"total\",:] \u003d ty\ncont.loc[\"total\",\"Total\"] \u003d len(data_set)\ncont\n",
      "metadata": {
        "pycharm": {
          "metadata": false,
          "name": "#%%\n"
        }
      }
    },
    {
      "cell_type": "markdown",
      "source": "look for a correlation between the variable \"Verwendungszweck\" and \"Buchungstext\"\n\n* Analyse : this table shows us that an adequate transformation of variable \"Verwendungszweck\" \ncould also be an indicator of category membership, or could also help when the values present in \n\"Beguenstigter/Zahlungspflichtiger\" and \"Buchungstext\" would not be sufficient for the categorization of a financial transaction.\n",
      "metadata": {
        "pycharm": {
          "metadata": false
        }
      }
    },
    {
      "cell_type": "code",
      "execution_count": null,
      "outputs": [],
      "source": "Y \u003d \"Buchungstext\"\nX \u003d \"Verwendungszweck\"\n\nc \u003d data_set[[X,Y]].pivot_table(index\u003dX,columns\u003dY,aggfunc\u003dlen)\ncont \u003d c.copy()\n\ntx \u003d data_set[X].value_counts()\nty \u003d data_set[Y].value_counts()\n\ncont.loc[:,\"Total\"] \u003d tx\ncont.loc[\"total\",:] \u003d ty\ncont.loc[\"total\",\"Total\"] \u003d len(data_set)\ncont\n",
      "metadata": {
        "pycharm": {
          "metadata": false,
          "name": "#%%\n"
        }
      }
    },
    {
      "cell_type": "markdown",
      "source": "#### d. Missing values treatment\n* The absence of some data in our dataset may reduce the accuracy of our model or may lead to a biased model \nbecause we have not properly analyzed the behaviour and relationship with the other variables. \nThis can lead to prediction or misclassification.\n\n* In the case of a training data set, the proportion of missing data is almost non-existent, so we won\u0027t do anything about it.\n",
      "metadata": {
        "pycharm": {
          "metadata": false,
          "name": "#%% md\n"
        }
      }
    },
    {
      "cell_type": "markdown",
      "source": "#### e. Outlier treatment\n\n* An outlier can be a value that is clearly false or a value that \"stands out from the crowd\", but not necessarily false.\n\n",
      "metadata": {
        "pycharm": {
          "metadata": false,
          "name": "#%% md\n"
        }
      }
    },
    {
      "cell_type": "markdown",
      "source": "## IV. Training",
      "metadata": {
        "pycharm": {
          "metadata": false,
          "name": "#%% md\n"
        }
      }
    }
  ],
  "metadata": {
    "kernelspec": {
      "display_name": "Python 3",
      "language": "python",
      "name": "python3"
    },
    "language_info": {
      "codemirror_mode": {
        "name": "ipython",
        "version": 3
      },
      "file_extension": ".py",
      "mimetype": "text/x-python",
      "name": "python",
      "nbconvert_exporter": "python",
      "pygments_lexer": "ipython3",
      "version": "3.6.4"
    },
    "stem_cell": {
      "cell_type": "raw",
      "metadata": {
        "pycharm": {
          "metadata": false
        }
      },
      "source": ""
    }
  },
  "nbformat": 4,
  "nbformat_minor": 2
}