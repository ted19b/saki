{
 "cells": [
  {
   "cell_type": "markdown",
   "metadata": {
    "collapsed": true
   },
   "source": [
    "# Resume NER\n",
    "## Extract Information from Resumes using NER (Named Entity Recognition)"
   ]
  },
  {
   "cell_type": "markdown",
   "metadata": {},
   "source": [
    "### Part 2 - NER with Spacy\n",
    "In this second part of the challenge, we will be using the preprocessed data from part one to start training NER models. We will be using spacy (https://spacy.io/) here to \"get our feet wet\" with NER, as training spacy can be reasonably done on our laptops and does not yet necessarily require a GPU. Spacy is a powerful, effective, and resource-efficient NLP library - It might surprise us with its performance on the challenge!\n",
    "\n",
    "We will run spacy's pretrained models on our data to get a feel for NER, and then we will perform some additional preprocessing on our data before we start training our own NER model using the labelled entities we have identified in part one. \n",
    "We will also explore evaluation metrics for NER, and decide how we want to quantify the performance of our trained models. \n",
    "\n",
    "* *If you need help setting up python or running this notebook, please get help from the  assistants to the professor*\n",
    "* *It might be helpful to try your code out first in a python ide like pycharm before copying it an running it here in this notebook*\n",
    "* *For solving the programming tasks, use the python reference linked here (Help->Python Reference) as well as Web-searches.* "
   ]
  },
  {
   "cell_type": "markdown",
   "metadata": {},
   "source": [
    "##### Reload preprocessed data\n",
    "Here, we will load the data we saved in part one and save it to a variable. Provide code below to load the data and store it as a list in a variable. (Hint - use 'open' and the json module)"
   ]
  },
  {
   "cell_type": "code",
   "execution_count": 1,
   "metadata": {
    "pycharm": {
     "is_executing": false
    }
   },
   "outputs": [
    {
     "name": "stdout",
     "output_type": "stream",
     "text": [
      "690\n"
     ]
    }
   ],
   "source": [
    "## import json module\n",
    "import json\n",
    "path = \"./data/converted_resumes.json\"\n",
    "## TODO open file load as json and store in \"resumes\" variable\n",
    "with open(path,encoding=\"utf8\") as file:\n",
    "    resumes = file.readlines()\n",
    "    \n",
    "all_resumes = []\n",
    "for line in resumes:\n",
    "    data = json.loads(line, encoding=\"utf8\")\n",
    "    all_resumes.append(data)\n",
    "\n",
    "resumes = all_resumes\n",
    "## TODO print length of loaded resumes list to be sure everything ok\n",
    "print(len(resumes))"
   ]
  },
  {
   "cell_type": "markdown",
   "metadata": {},
   "source": [
    "##### Take Spacy for a spin\n",
    "Before we train our own NER model to recognize the resume-specific entities we want to capture, let's see how spacy's pretrained NER models do on our data. These pretrained models can't recognize our entities yet, but let's see how they do. Run the next code block to load spacy's English language model \n"
   ]
  },
  {
   "cell_type": "code",
   "execution_count": 2,
   "metadata": {
    "scrolled": true
   },
   "outputs": [
    {
     "name": "stdout",
     "output_type": "stream",
     "text": [
      "<spacy.lang.en.English object at 0x10475df60>\n"
     ]
    }
   ],
   "source": [
    "import spacy\n",
    "nlp = spacy.load('en')\n",
    "print(nlp)"
   ]
  },
  {
   "cell_type": "markdown",
   "metadata": {},
   "source": [
    "Now we get the EntityRecognizer in the loaded nlp pipeline and display the labels it supports"
   ]
  },
  {
   "cell_type": "code",
   "execution_count": 3,
   "metadata": {},
   "outputs": [
    {
     "name": "stdout",
     "output_type": "stream",
     "text": [
      "('WORK_OF_ART', 'DATE', 'QUANTITY', 'EVENT', 'LAW', 'ORDINAL', 'NORP', 'CARDINAL', 'PERSON', 'TIME', 'FAC', 'PERCENT', 'LANGUAGE', 'PRODUCT', 'GPE', 'LOC', 'ORG', 'MONEY')\n"
     ]
    }
   ],
   "source": [
    "ner = nlp.get_pipe('ner')\n",
    "labels = ner.labels\n",
    "print(labels)"
   ]
  },
  {
   "cell_type": "markdown",
   "metadata": {},
   "source": [
    "##### Question: What do the 'GPE', 'FAC' and 'NORP' labels stand for? (Tipp: use either the spacy.explain method, or google the spacy.io api docs) \n",
    "*Answer here*\n",
    "\n",
    "GPE : for recognition of  Countries, cities, states\n",
    "\n",
    "FAC : for recognition of  Buildings, airports, highways, bridges, etc.\n",
    "\n",
    "NORP : for recognition of  Nationalities or religious or political groups"
   ]
  },
  {
   "cell_type": "code",
   "execution_count": 4,
   "metadata": {},
   "outputs": [
    {
     "name": "stdout",
     "output_type": "stream",
     "text": [
      "for recognition of  Countries, cities, states\n",
      "for recognition of  Buildings, airports, highways, bridges, etc.\n",
      "for recognition of  Nationalities or religious or political groups\n"
     ]
    }
   ],
   "source": [
    "### TODO  if you choose to use spacy's 'explain' method to get the answer to the question above, provide your code here\n",
    "explain_GPE = spacy.explain('GPE')\n",
    "explain_FAC = spacy.explain('FAC')\n",
    "explain_NORP = spacy.explain('NORP')\n",
    "## print description of entities using spacy explain\n",
    "print('for recognition of ', explain_GPE)\n",
    "print('for recognition of ', explain_FAC)\n",
    "print('for recognition of ', explain_NORP)"
   ]
  },
  {
   "cell_type": "markdown",
   "metadata": {},
   "source": [
    "As we can see, the entities are different than the entities we will train our custom model on. \n",
    "##### Question: what entities do you think this model will find in an example resume?\n",
    "*Answer here* \n",
    "\n",
    "* LANGUAGE : when among the skills, there are also different languages\n",
    "* ORG : the names of companies can be recognized \n",
    "* CARDINAL : the different numbers and digits can be identified\n",
    "* PERSON : the names of the different candidates can be recognized by this label\n",
    "* DATE : the number of years of experience can be seen as a \"date\" indicator, or at least some 4-digit numbers could be seen as dates\n"
   ]
  },
  {
   "cell_type": "markdown",
   "metadata": {},
   "source": [
    "Now we will work with one of our resumes, and get spacy to tell us what entities it recognizes. Complete the code block below to get a single resume text out of our resume list. "
   ]
  },
  {
   "cell_type": "code",
   "execution_count": 5,
   "metadata": {},
   "outputs": [
    {
     "name": "stdout",
     "output_type": "stream",
     "text": [
      "Afreen Jamadar\n",
      "Active member of IIIT Committee in Third year\n",
      "Sangli, Maharashtra - Email me on Indeed: indeed.com/r/Afreen-Jamadar/8baf379b705e37c6\n",
      "I wish to use my knowledge, skills and conceptual understanding to create excellent team\n",
      "environments and work consistently achieving organization objectives believes in taking initiative\n",
      "and work to excellence in my work.\n",
      "WORK EXPERIENCE\n",
      "Active member of IIIT Committee in Third year\n",
      "Cisco Networking -  Kanpur, Uttar Pradesh\n",
      "organized by Techkriti IIT Kanpur and Azure Skynet.\n",
      "PERSONALLITY TRAITS:\n",
      "• Quick learning ability\n",
      "• hard working\n",
      "EDUCATION\n",
      "PG-DAC\n",
      "CDAC ACTS\n",
      "2017\n",
      "Bachelor of Engg in Information Technology\n",
      "Shivaji University Kolhapur -  Kolhapur, Maharashtra\n",
      "2016\n",
      "SKILLS\n",
      "Database (Less than 1 year), HTML (Less than 1 year), Linux. (Less than 1 year), MICROSOFT\n",
      "ACCESS (Less than 1 year), MICROSOFT WINDOWS (Less than 1 year)\n",
      "ADDITIONAL INFORMATION\n",
      "TECHNICAL SKILLS:\n",
      "• Programming Languages: C, C++, Java, .net, php.\n",
      "• Web Designing: HTML, XML\n",
      "• Operating Systems: Windows […] Windows Server 2003, Linux.\n",
      "• Database: MS Access, MS SQL Server 2008, Oracle 10g, MySql.\n",
      "https://www.indeed.com/r/Afreen-Jamadar/8baf379b705e37c6?isid=rex-download&ikw=download-top&co=IN\n"
     ]
    }
   ],
   "source": [
    "### TODO get a single resume text and print it out\n",
    "restxt = resumes[0][0]\n",
    "## print it out, removing extraneous spaces\n",
    "print(\"\\n\".join(restxt.split('\\n\\n')))"
   ]
  },
  {
   "cell_type": "markdown",
   "metadata": {},
   "source": [
    "Extracting entities with spacy is easy with a pretrained model. We simply call the model (here 'nlp') with our text to get a spacy Document. See https://spacy.io/api/doc for more detail. \n",
    "\n",
    "Execute the code below to process the resume txt."
   ]
  },
  {
   "cell_type": "code",
   "execution_count": 6,
   "metadata": {},
   "outputs": [],
   "source": [
    "doc = nlp(restxt)"
   ]
  },
  {
   "cell_type": "markdown",
   "metadata": {},
   "source": [
    "The doc object has a list of entities predicted by spacy 'ents'. We would like to loop through all of these entities and print their label and associated text to see what spacy predicted for this resume.\n",
    "\n",
    "Complete the code below to do this. You will probably need to google the spacy api docs to find the solution (Tipp: look for 'Doc.ents'). Also, trying code in your ide (for example pycharm) before copying it here might help with exploring and debugging to find the solution. "
   ]
  },
  {
   "cell_type": "code",
   "execution_count": 7,
   "metadata": {},
   "outputs": [
    {
     "name": "stdout",
     "output_type": "stream",
     "text": [
      "recognized label --> GPE : Jamadar\n",
      "recognized label --> ORG : IIIT Committee\n",
      "recognized label --> DATE : Third year\n",
      "recognized label --> ORG : Maharashtra\n",
      "recognized label --> ORG : IIIT Committee\n",
      "recognized label --> DATE : Third year\n",
      "recognized label --> PERSON : Cisco Networking -  Kanpur\n",
      "recognized label --> ORG : Uttar Pradesh\n",
      "recognized label --> ORG : Techkriti IIT Kanpur\n",
      "recognized label --> PERSON : Azure Skynet\n",
      "recognized label --> PERSON : Quick\n",
      "recognized label --> ORG : CDAC\n",
      "recognized label --> DATE : 2017\n",
      "recognized label --> GPE : Kolhapur\n",
      "recognized label --> ORG : Maharashtra\n",
      "recognized label --> DATE : 2016\n",
      "recognized label --> ORG : HTML\n",
      "recognized label --> DATE : Less than 1 year\n",
      "recognized label --> PERSON : Linux\n",
      "recognized label --> DATE : Less than 1 year\n",
      "recognized label --> ORG : MICROSOFT\n",
      "recognized label --> PERSON : ACCESS\n",
      "recognized label --> PERSON : C++\n",
      "recognized label --> PERSON : Java\n",
      "recognized label --> ORG : XML\n",
      "recognized label --> ORG : Operating Systems\n",
      "recognized label --> PERSON : Windows Server\n",
      "recognized label --> DATE : 2003\n",
      "recognized label --> GPE : Linux\n",
      "recognized label --> ORG : MS Access\n",
      "recognized label --> ORG : MS SQL\n",
      "recognized label --> DATE : 2008\n",
      "recognized label --> PRODUCT : Oracle 10\n",
      "recognized label --> PRODUCT : MySql\n"
     ]
    }
   ],
   "source": [
    "##TODO loop through the doc's entities, and print the label and text for each entity found. \n",
    "ents = doc.ents\n",
    "for elem in ents:\n",
    "    print('recognized label -->', elem.label_, ':',  elem.text)"
   ]
  },
  {
   "cell_type": "markdown",
   "metadata": {},
   "source": [
    "##### Questions: What is your first impression of spacy's NER based on the results above? Does it seem accurate/powerfull?\n",
    "##### Does it make many mistakes? Do some entity types seem more accurate than others? \n",
    "*Answers here*\n",
    "\n",
    "We can see that the recognized labels are clearly not the one we have. \n",
    "The accuracy is clearly very low."
   ]
  },
  {
   "cell_type": "markdown",
   "metadata": {},
   "source": [
    "Now as a comparison, we will list the entities contained in the resume's original annotated training data (remember, the existing annotations were created by a human-annotator, and not predicted by a machine like the entities predicted above) \n",
    "\n",
    "Complete the code below to do the following: \n",
    "* Access the 'entities' list of the example resume you chose, loop through the entities and print them out. \n",
    "* *Tip: one entity in the list is a tuple with the following structure: (12,1222,\"label\") where the first element is the start index of the entity in the resume text, the second element is the end index, and the third element is the label.\n",
    "* Use this Tip to print out a formatted list of entities \n",
    "\n"
   ]
  },
  {
   "cell_type": "code",
   "execution_count": 8,
   "metadata": {
    "scrolled": false
   },
   "outputs": [
    {
     "name": "stdout",
     "output_type": "stream",
     "text": [
      "Skills                         ❖ Operating Environment: […] Windows95/98/XP/NT\n",
      "❖ Database Tool: SQL Management Studio (MSSQL), Business\n",
      "Development Studio, Visual studio 2005\n",
      "❖ Database Language: SQL, PL/SQL\n",
      "❖ Ticket Tracking Tool: Service Now\n",
      "❖ Reporting Tools: MS Reporting Services, SAS\n",
      "❖ Languages: C, C++, PL/SQL\n",
      "Skills                         Database (3 years), SQL (3 years), Sql Dba\n",
      "Graduation Year                2012\n",
      "College Name                   Indira Gandhi Institute Of Technology\n",
      "College Name                   B.Tech in Computer Science and Engineering in CSE\n",
      "Companies worked at            Microsoft Corporation\n",
      "Location                       Bengaluru\n",
      "Companies worked at            HCL Technologies\n",
      "Designation                    SQL DBA Analyst\n",
      "Designation                    DBA Support Analyst\n",
      "projects                        Finance Support\n",
      "Companies worked at            Microsoft Corporation\n",
      "Email Address                  indeed.com/r/Alok-Khandai/5be849e443b8f467\n",
      "Companies worked at            Microsoft Corporation\n",
      "Designation                    DBA Support Analyst\n",
      "Skills                         SQL Database Administration, System Analysis, Design\n",
      "Years of Experience            3.5 Years\n",
      "Location                       Bengaluru\n",
      "Companies worked at            UNISYS\n",
      "Designation                    Operational Analyst (SQL DBA) Engineer\n",
      "Location                       Bengaluru\n",
      "Skills                         SQL Database Administration, System Analysis, Design\n",
      "Email Address                  indeed.com/r/Alok-Khandai/5be849e443b8f467\n",
      "Location                       Bengaluru\n",
      "Companies worked at            UNISYS\n",
      "Designation                    Operational Analyst (SQL DBA) Engineer\n",
      "Name                           Alok Khandai\n"
     ]
    }
   ],
   "source": [
    "##TODO print original entities for one resume\n",
    "res = resumes[1]\n",
    "restext = res[0]\n",
    "labeled_ents = res[1][\"entities\"]\n",
    "## TODO print out formatted list of entity labels and text\n",
    "for ent in labeled_ents:\n",
    "    print(\"{:30} {}\".format(ent[2], restext[ent[0]:ent[1]]) )"
   ]
  },
  {
   "cell_type": "markdown",
   "metadata": {},
   "source": [
    "As we already know, the annotated entities in the training data are different than the entities spacy can recognize with it's pretrainied models, so we need to train a custom NER model. We will get started with that now. "
   ]
  },
  {
   "cell_type": "markdown",
   "metadata": {},
   "source": [
    "##### Prepare Training Data for NER model training\n",
    "We need to do some more preprocessing of our training data before we can train our model."
   ]
  },
  {
   "cell_type": "markdown",
   "metadata": {},
   "source": [
    "Remember the entity labels you chose in part 1 of the challenge? We will be training a model to predict those entities.\n",
    "As a first step, we will gather all resumes that contain at least one training annotation for those entities.\n",
    "\n",
    "Complete and execute the code below to gather your training data. "
   ]
  },
  {
   "cell_type": "code",
   "execution_count": 9,
   "metadata": {},
   "outputs": [
    {
     "name": "stdout",
     "output_type": "stream",
     "text": [
      "Gathered 437 training examples\n"
     ]
    }
   ],
   "source": [
    "##TODO Store the entity labels you want to train for as array in chosen_entity_labels\n",
    "chosen_entity_labels = ['Skills', 'Degree', 'Companies worked at']\n",
    "\n",
    "## this method gathers all resumes which have all of the chosen entites above.\n",
    "def gather_candidates(dataset,entity_labels):\n",
    "    candidates = list()\n",
    "    for resume in dataset:\n",
    "        res_ent_labels = list(zip(*resume[1][\"entities\"]))[2]\n",
    "        if set(entity_labels).issubset(res_ent_labels):\n",
    "            candidates.append(resume)\n",
    "    return candidates\n",
    "## TODO use the gather candidates methods and store result in training_data variable\n",
    "training_data = gather_candidates(resumes, chosen_entity_labels)\n",
    "print(\"Gathered {} training examples\".format(len(training_data)))"
   ]
  },
  {
   "cell_type": "markdown",
   "metadata": {},
   "source": [
    "Now we have those training examples which contain the entities we are interested in. Do you have at least a few hundred examples? If not, you might need to re-think the entities you chose or try just one or two of them and re-run the notebooks. It is important that we have several hundred examples for training (e.g. more than 200. 3-500 is better). "
   ]
  },
  {
   "cell_type": "markdown",
   "metadata": {},
   "source": [
    "##### Remove other entity annotations from training data\n",
    "Now that we have our training data, we want to remove all but relevant (chosen) entity annotations from this data, so that the model we train will only train for our entities. Complete and execute the code below to do this. "
   ]
  },
  {
   "cell_type": "code",
   "execution_count": 10,
   "metadata": {},
   "outputs": [
    {
     "name": "stdout",
     "output_type": "stream",
     "text": [
      "437\n",
      "{'entities': [[5088, 5109, 'Skills'], [5071, 5085, 'Skills'], [3781, 3795, 'Skills'], [3490, 3523, 'Skills'], [3388, 3420, 'Degree'], [3290, 3311, 'Degree'], [1742, 1749, 'Companies worked at'], [1491, 1497, 'Companies worked at'], [1289, 1296, 'Companies worked at'], [1257, 1264, 'Companies worked at'], [1223, 1230, 'Companies worked at'], [1192, 1199, 'Companies worked at'], [786, 818, 'Skills'], [768, 780, 'Skills'], [752, 763, 'Skills'], [675, 696, 'Skills'], [656, 670, 'Skills'], [475, 478, 'Degree'], [38, 58, 'Companies worked at'], [38, 44, 'Companies worked at']]}\n"
     ]
    }
   ],
   "source": [
    "## filter all annotation based on filter list\n",
    "def filter_ents(ents, filter):\n",
    "    filtered = [ent for ent in ents if ent[2] in filter]\n",
    "    return filtered\n",
    "\n",
    "## TODO use method above to remove all but relevant (chosen) entity annotations and store in X variable \n",
    "ents = []\n",
    "for data in training_data:\n",
    "    all_labels = data[1][\"entities\"]\n",
    "    for label in all_labels:\n",
    "            ents.append(label)\n",
    "\n",
    "# X = filter_ents(ents, chosen_entity_labels)\n",
    "X = [[dat[0], dict(entities=filter_ents(dat[1]['entities'], chosen_entity_labels))] for dat in training_data]\n",
    "print(len(X))\n",
    "print(X[2][1])"
   ]
  },
  {
   "cell_type": "markdown",
   "metadata": {},
   "source": [
    "##### Remove resumes that cause errors in spacy\n",
    "Depending on what entities you chose, some of the resumes might cause errors in spacy. We don't need to get into details as to why, suffice to say it has to do with whitespace and syntax in the entity annotations. If these resumes are not removed from our training data, spacy will throw an exception during training, so we need to remove them first. \n",
    "\n",
    "We will use the remove_bad_data function below to do this. This function does the following:\n",
    "* calls train_spacy_ner with debug=True and n_iter=1. This causes spacy to process the documents one-by-one, and gather the documents that throw an exception in a list of \"bad docs\" which it returns. \n",
    "* You will complete the function to remove any baddocs (returned by remove_bad_data) from your training data list. \n",
    "\n",
    "You may or may not have any bad documents depending on the entities you chose. In any case, there should not be more than a dozen or so bad docs.  "
   ]
  },
  {
   "cell_type": "code",
   "execution_count": 11,
   "metadata": {
    "scrolled": true
   },
   "outputs": [
    {
     "name": "stdout",
     "output_type": "stream",
     "text": [
      "Created blank 'en' model\n",
      "Losses {'ner': 43437.77209984537}\n",
      "Unfiltered training data size:  437\n",
      "Filtered training data size:  437\n",
      "Bad data size:  0\n"
     ]
    }
   ],
   "source": [
    "from spacy_train_resume_ner import train_spacy_ner\n",
    "\n",
    "def remove_bad_data(training_data):\n",
    "    model, baddocs = train_spacy_ner(training_data, debug=True, n_iter=1)\n",
    "    ## training data is list of lists with each list containing a text and annotations\n",
    "    ## baddocs is a set of strings/resume texts.\n",
    "    ## TODO complete implementation to filter bad docs and store filter result (good docs) in filtered variable\n",
    "    filtered = [data for data in training_data if data[0] not in baddocs]\n",
    "    print(\"Unfiltered training data size: \",len(training_data))\n",
    "    print(\"Filtered training data size: \", len(filtered))\n",
    "    print(\"Bad data size: \", len(baddocs))\n",
    "    return filtered\n",
    "\n",
    "## call remove method. It may take a few minutes for the method to complete.\n",
    "## you will know it is complete when the print output above.\n",
    "X = remove_bad_data(X)"
   ]
  },
  {
   "cell_type": "markdown",
   "metadata": {},
   "source": [
    "##### Question: How many bad docs did you have? What is the size of your new (filtered) training data? \n",
    "*Answer here*\n",
    "\n",
    "0 bad docs. the new size of our filtered training data is 437"
   ]
  },
  {
   "cell_type": "markdown",
   "metadata": {},
   "source": [
    "##### Train/Test Split\n",
    "Now before we train our model, we have to split our available training data into training and test sets. Splitting our data into train and test (or holdout) datasets is a fundamental technique in machine learning, and essential to avoid the problem of overfitting.\n",
    "Before we go on, you should get a grasp of how train/test split helps us avoid overfitting. Please take the time now to do a quick web search on the topic. There are many resources available. You should search for \"train test validation overfitting\" or some subset of those terms.\n",
    "\n",
    "Here are a few articles to start with:\n",
    "* https://machinelearningmastery.com/a-simple-intuition-for-overfitting/\n",
    "* https://scikit-learn.org/stable/modules/cross_validation.html#cross-validation (Note: you are free to install scikit learn and use the train_test_split method documented here, but it is not necessary. It is the concept that is important)\n",
    "\n",
    "##### Question: What is overfitting and how does doing a train/test split help us avoid overfitting when training our models? Please answer in your own words. \n",
    "*Answer here*\n",
    "\n",
    "Overfitting refers to the fact that the predictive model produced by the Machine Learning algorithm adapts well to the Training Set.\n",
    "\n",
    "train/test split allows us to see how our model behaves on data it has not yet seen. \n",
    "This notion is important because the purpose of Machine Learning is to predict results on data not seen by the predictive function. The goal of the game is that the prediction made is the closest possible to reality after the model has trained on learning data. "
   ]
  },
  {
   "cell_type": "markdown",
   "metadata": {},
   "source": [
    "Now that we understand why we do a train/test split, we will write some code that splits our data into train and test sets. Usually we want around 70-80% of the data for train, and the rest for test. \n",
    "##### TODO: Complete the code below to create a train and test dataset"
   ]
  },
  {
   "cell_type": "code",
   "execution_count": 12,
   "metadata": {},
   "outputs": [],
   "source": [
    "##TODO complete the implementation  of the train test split function below\n",
    "def train_test_split(X,train_percent):\n",
    "    train_size = round(train_percent * len(X))\n",
    "    train = X[0:train_size:]\n",
    "    test = X[train_size::]\n",
    "    return train,test\n",
    "## TODO chose train size percent and call train test split, storing results in \"train\" and \"test\" variables.\n",
    "train,test = train_test_split(X, 0.8)\n",
    "## TODO use python assert to assert that the size of train and test sets add up to the size of all the data \n",
    "assert len(train) + len(test) == len(X)"
   ]
  },
  {
   "cell_type": "markdown",
   "metadata": {},
   "source": [
    "##### Train a spacy ner model with our training data\n",
    "OK, now it is (finally) time to train our own custom NER model using spacy. Because our training data has been preprocessed to only include annotations for the entities we are interested in, the model will only be able to predict/extract those entities. \n",
    "*Depending on your computer, this step may take a while.* Training 20 epochs (iterations) using 480 training examples takes around 10 minutes on my machine (core i7 CPU). You will see output like *Losses {'ner':2342.23342342}* after each epoch/iteration. The default number of iterations is 20, so you will see this output 20 times. When this step is done, we will use the trained ner model to perform predictions on our test data in our test set.  "
   ]
  },
  {
   "cell_type": "code",
   "execution_count": 13,
   "metadata": {},
   "outputs": [
    {
     "name": "stdout",
     "output_type": "stream",
     "text": [
      "Created blank 'en' model\n",
      "Losses {'ner': 37815.58809080891}\n",
      "Losses {'ner': 35356.832652860816}\n",
      "Losses {'ner': 23543.490550908842}\n",
      "Losses {'ner': 39507.424731479085}\n",
      "Losses {'ner': 34574.861733339596}\n",
      "Losses {'ner': 37153.98180454783}\n",
      "Losses {'ner': 37078.20448336378}\n",
      "Losses {'ner': 30798.30722992555}\n",
      "Losses {'ner': 21171.83980547829}\n",
      "Losses {'ner': 24990.427372032776}\n",
      "Losses {'ner': 25255.26998435636}\n",
      "Losses {'ner': 24965.776010153582}\n",
      "Losses {'ner': 20947.634760749876}\n",
      "Losses {'ner': 18500.889791691676}\n",
      "Losses {'ner': 16080.919177819625}\n",
      "Losses {'ner': 15411.31817654447}\n",
      "Losses {'ner': 15711.533377157111}\n",
      "Losses {'ner': 12633.495664811351}\n",
      "Losses {'ner': 12241.087240987443}\n",
      "Losses {'ner': 11531.79968284876}\n"
     ]
    }
   ],
   "source": [
    "## run this code to train a ner model using spacy\n",
    "custom_nlp,_= train_spacy_ner(train,n_iter=20)"
   ]
  },
  {
   "cell_type": "markdown",
   "metadata": {},
   "source": [
    "##### Inspect NER predictions on one sample resume\n",
    "Now that we have a trained model, let's see how it works on one of our resumes. "
   ]
  },
  {
   "cell_type": "code",
   "execution_count": 14,
   "metadata": {},
   "outputs": [
    {
     "name": "stdout",
     "output_type": "stream",
     "text": [
      "[\"Arunbalaji. R\\nTechnical assistance and supervisor\\n\\nCHITLAPAKKAM, TAMIL NADU, IN - Email me on Indeed: indeed.com/r/Arunbalaji-\\nR/9b55a0b150f23f61\\n\\nSeeking for a challenging position as a civil Engineer, where I can use my plannings, designing\\nand overseeing skills in construction and help to grow the company to achieve its goal.\\n\\nWORK EXPERIENCE\\n\\nfreshers\\n\\nSpiro solution Pvt ltd -  Chennai, Tamil Nadu\\n\\nI'm working as a technical and designed engineer in Spiro solution pvt.ltd. I can manage a design\\nand analytical problem in civil engineering,with dedication and effort.\\n\\nEDUCATION\\n\\nHSC in B.E.CIVIL ENGINEERING\\n\\nANNA UNIVERSITY\\n\\n2017\\n\\nSKILLS\\n\\nAUTO CAD (Less than 1 year), CADD (Less than 1 year), CONCRETE (Less than 1 year),\\nCONFIDENT (Less than 1 year), DESIGN ENGINEERING (Less than 1 year)\\n\\nADDITIONAL INFORMATION\\n\\nKey skills:\\n➢ Dedicated\\n➢ Team player\\n➢ Confident\\n➢ Quick learner.\\n\\nSoftware proficiency:\\n• Software known: Auto CADD, Staddpro, Revit architect, 3ds-max.\\n• Office suite:MS-office.\\nArea of Interest:\\n• Site Engineering\\n• Design Engineering\\nAcademic Project undertaken:\\nMinor project\\nTeam size: 4\\nProject description: Design of elevated circular water tank\\n\\nhttps://www.indeed.com/r/Arunbalaji-R/9b55a0b150f23f61?isid=rex-download&ikw=download-top&co=IN\\nhttps://www.indeed.com/r/Arunbalaji-R/9b55a0b150f23f61?isid=rex-download&ikw=download-top&co=IN\\n\\n\\nDesign and Construction of water tank with the capacity of 1.5kl for the daily usage around 3000\\npeople.\\nMajor project\\nTeam size: 4\\nProject description: Experimental study on mechanical strength property of cement with partial\\nreplacing secondary cementitious materials\\nCement with partial replacing secondary cementitious materials like GGBS, Silica fume, to\\nincrease the strength of concrete and prepare report on it.\", {'entities': [[938, 942, 'Skills'], [762, 780, 'Skills'], [703, 711, 'Skills'], [678, 682, 'Skills'], [649, 657, 'Skills'], [588, 616, 'Degree'], [359, 381, 'Companies worked at']]}]\n"
     ]
    }
   ],
   "source": [
    "## TODO fetch one resume out of our test dataset and store to the \"resume\" variable\n",
    "resume = test[0]\n",
    "##   \n",
    "restxt = resume[0]\n",
    "doc = custom_nlp(restxt)\n",
    "print(resume)"
   ]
  },
  {
   "cell_type": "markdown",
   "metadata": {},
   "source": [
    "Now we will output the predicted entities and the existing annotated entities in that doc"
   ]
  },
  {
   "cell_type": "code",
   "execution_count": 15,
   "metadata": {},
   "outputs": [
    {
     "name": "stdout",
     "output_type": "stream",
     "text": [
      "PREDICTED:\n",
      "recognized label --> Companies worked at : Spiro solution Pvt ltd\n",
      "recognized label --> Degree : HSC in B.E.CIVIL ENGINEERING\n",
      "recognized label --> Skills : AUTO CAD\n",
      "recognized label --> Skills : CADD\n",
      "recognized label --> Skills : CONFIDENT\n",
      "recognized label --> Skills : DESIGN ENGINEERING\n",
      "\n",
      "##### ####\n",
      "\n",
      "LABELED:\n",
      "Skills                         L Ma\n",
      "Skills                         t permissions like\n",
      "Skills                         \n",
      "❖ Exper\n",
      "Skills                         cati\n",
      "Skills                         \n",
      "Databas\n",
      "Degree                         ting DR solution, High Avail\n",
      "Companies worked at            ronments.\n",
      "❖ Working Ex\n"
     ]
    }
   ],
   "source": [
    "## TODO output label and text of predicted entities (in \"ents\" variable of the spacy doc created above)\n",
    "print(\"PREDICTED:\")\n",
    "ents = doc.ents\n",
    "for ent in ents:\n",
    "    print('recognized label -->', ent.label_, ':',  ent.text)\n",
    "## TODO output labeled entities (in \"entities\" dictionary of resume)\n",
    "print('\\n##### ####\\n')\n",
    "print(\"LABELED:\")\n",
    "labeled_ents = resume[1][\"entities\"]\n",
    "for ent in labeled_ents:\n",
    "    print(\"{:30} {}\".format(ent[2], restext[ent[0]:ent[1]]) )    "
   ]
  },
  {
   "cell_type": "markdown",
   "metadata": {},
   "source": [
    "#### Evaluation Metrics for NER\n",
    "Now that we can predict entities using our trained model, we can compare our predictions with the original annotations in our training data to evaluate how well our model performs for our task. The original annotations have been annotated manually by human annotators, and represent a \"Gold Standard\" against which we can compare our predictions. \n",
    "\n",
    "For most classification tasks, the most common evaluation metrics are:\n",
    "* accuracy\n",
    "* precision\n",
    "* recall\n",
    "* f1 score\n",
    "\n",
    "In order to understand these metrics, we need to understand the following concepts:\n",
    "* True positives - How many of the predicted entities are \"true\" according to the Gold Standard? (training annotation) \n",
    "* True negatives - How many entities did the model not predict which are actually not entities according to the Gold Standard?\n",
    "* False positives - How many entities did the model predict which are NOT entities according to the Gold Standard?  \n",
    "* False negatives - How many entities did the model \"miss\" - e.g. did not recognize as entities which are entities according to the Gold Standard? \n",
    "\n",
    "Before we go on, it is important that you understand true/false positives/negatives as well as the evaluation metrics above. Take some time now to research the web in order to find answers to the following questions:\n",
    "\n",
    "##### Question: How are the evaluation metrics above defined in the context of evaluating Machine Learning models? How do they relate to True/False Positives/Negatives above? Please provide an intuitive description as well as the mathmatical formula for each metric. \n",
    "*Answers here*\n",
    "\n",
    "**Accuracy** : calculates the percentage by which the classifier performs a correct classification (number of\n",
    "correct classification / total number of prdiction made)\n",
    "Accuracy = (TP + TN) / (TP + TN + FP + FN)\n",
    "\n",
    "**Precision** : number of correct positive results / number of positive results predicted by the classifier.\n",
    "Precision = TP / (TP + FP)\n",
    "\n",
    "**Recall (sensitivity)** : number of correct positive results / number of all relevant samples\n",
    "Recall = TP / (TP + FN)\n",
    "\n",
    "**F1 Score** : weighted average of the precision and recall scores.\n",
    "F1_score = (2 * precision * recall) / (precision + recall)"
   ]
  },
  {
   "cell_type": "markdown",
   "metadata": {},
   "source": [
    "##### Calculating Metrics based on token-level annotations or full entity-level. \n",
    "The concepts above are our first step toward understanding how to evaluate our model effectively. However, in NER, we need to take into account that we can calculate our metrics either based on all tokens (words) found in the document, or only on the entities found in the document.  \n",
    "\n",
    "##### Token-Level evaluation. \n",
    "Token level evaluation evaluates how accurately did the model tag *each individual word/token* in the input. In order to understand this, we need to understand something called the \"BILUO\" Scheme (or BILOU or BIO). The spacy docs have a good reference. Please read and familiarize yourself with BILUO. \n",
    "\n",
    "https://spacy.io/api/annotation#biluo\n",
    "\n",
    "Up to now, we have not been working with the BILUO scheme, but with \"offsets\" (for example: (112,150,\"Email\") - which says there is an \"Email\" entity between positions 112 and 150 in the text). We would like to be able to evaluate our models on a token-level using BILUO - so we need to convert our data to BILUO. Fortunately, Spacy provides a helper method to do this for us.\n",
    "\n",
    "*Execute the code below to see how our \"Gold Standard\" and predictions for our example doc above look in BILUO scheme.* \n",
    "Note: some of the lines might be ommited for display purposes. "
   ]
  },
  {
   "cell_type": "code",
   "execution_count": 16,
   "metadata": {},
   "outputs": [
    {
     "data": {
      "text/html": [
       "<div>\n",
       "<style scoped>\n",
       "    .dataframe tbody tr th:only-of-type {\n",
       "        vertical-align: middle;\n",
       "    }\n",
       "\n",
       "    .dataframe tbody tr th {\n",
       "        vertical-align: top;\n",
       "    }\n",
       "\n",
       "    .dataframe thead th {\n",
       "        text-align: right;\n",
       "    }\n",
       "</style>\n",
       "<table border=\"1\" class=\"dataframe\">\n",
       "  <thead>\n",
       "    <tr style=\"text-align: right;\">\n",
       "      <th></th>\n",
       "      <th>Tokens</th>\n",
       "      <th>Predicted</th>\n",
       "      <th>True</th>\n",
       "    </tr>\n",
       "  </thead>\n",
       "  <tbody>\n",
       "    <tr>\n",
       "      <th>0</th>\n",
       "      <td>Ram</td>\n",
       "      <td>O</td>\n",
       "      <td>O</td>\n",
       "    </tr>\n",
       "    <tr>\n",
       "      <th>1</th>\n",
       "      <td>Edupuganti</td>\n",
       "      <td>O</td>\n",
       "      <td>O</td>\n",
       "    </tr>\n",
       "    <tr>\n",
       "      <th>2</th>\n",
       "      <td></td>\n",
       "      <td>O</td>\n",
       "      <td>O</td>\n",
       "    </tr>\n",
       "    <tr>\n",
       "      <th>3</th>\n",
       "      <td>Software</td>\n",
       "      <td>O</td>\n",
       "      <td>O</td>\n",
       "    </tr>\n",
       "    <tr>\n",
       "      <th>4</th>\n",
       "      <td>Development</td>\n",
       "      <td>O</td>\n",
       "      <td>O</td>\n",
       "    </tr>\n",
       "  </tbody>\n",
       "</table>\n",
       "</div>"
      ],
      "text/plain": [
       "        Tokens Predicted True\n",
       "0          Ram         O    O\n",
       "1   Edupuganti         O    O\n",
       "2                      O    O\n",
       "3     Software         O    O\n",
       "4  Development         O    O"
      ]
     },
     "metadata": {},
     "output_type": "display_data"
    }
   ],
   "source": [
    "from spacy.gold import biluo_tags_from_offsets\n",
    "import pandas as pd\n",
    "from IPython.display import display, HTML\n",
    "\n",
    "## returns a pandas dataframe with tokens, prediction, and true (Gold Standard) annotations of tokens\n",
    "def make_bilou_df(nlp,resume):\n",
    "    \"\"\"\n",
    "    param nlp - a trained spacy model\n",
    "    param resume - a resume from our train or test set\n",
    "    \"\"\"\n",
    "    doc = nlp(resume[0])\n",
    "    bilou_ents_predicted = biluo_tags_from_offsets(doc, [(ent.start_char,ent.end_char,ent.label_)for ent in doc.ents])\n",
    "    bilou_ents_true = biluo_tags_from_offsets(doc,[(ent[0], ent[1], ent[2]) for ent in resume[1][\"entities\"]])\n",
    "\n",
    "    \n",
    "    doc_tokens = [tok.text for tok in doc]\n",
    "    bilou_df = pd.DataFrame()\n",
    "    bilou_df[\"Tokens\"] =doc_tokens\n",
    "    bilou_df[\"Tokens\"] = bilou_df[\"Tokens\"].str.replace(\"\\\\s+\",\"\") \n",
    "    bilou_df[\"Predicted\"] = bilou_ents_predicted\n",
    "    bilou_df[\"True\"] = bilou_ents_true\n",
    "    return bilou_df\n",
    "\n",
    "## TODO call method above with a resume from test set and store result in bilou_df variable.\n",
    "bilou_df = make_bilou_df(custom_nlp, test[10])\n",
    "display(bilou_df.head())  \n"
   ]
  },
  {
   "cell_type": "markdown",
   "metadata": {},
   "source": [
    "Based on this output, it should be very easy to calculate a token-level accuracy. We simply compare the \"Predicted\" to \"True\" columns and calculate what percentage are the same. "
   ]
  },
  {
   "cell_type": "code",
   "execution_count": 17,
   "metadata": {
    "scrolled": true
   },
   "outputs": [
    {
     "name": "stdout",
     "output_type": "stream",
     "text": [
      "Accuracy on one resume:  0.9328512396694215\n"
     ]
    }
   ],
   "source": [
    "## TODO bilou_df is a pandas dataframe. Use pandas dataframe api to get a subset where predicted and true are the same. \n",
    "same_df = bilou_df[bilou_df[\"Predicted\"] == bilou_df[\"True\"]]\n",
    "## accuracy is the length of this subset divided by the length of bilou_df\n",
    "accuracy = float(len(same_df) / len(bilou_df))\n",
    "print(\"Accuracy on one resume: \",accuracy)\n"
   ]
  },
  {
   "cell_type": "markdown",
   "metadata": {},
   "source": [
    "The accuracy might seem pretty good... if it is not 100%, then let's print out those tokens where the model predicted something different than the gold standard by running the code below. \n",
    "\n",
    "Note - if your score on one doc is 100%, pick another document and re-run the last few cells above. "
   ]
  },
  {
   "cell_type": "code",
   "execution_count": 18,
   "metadata": {},
   "outputs": [
    {
     "data": {
      "text/html": [
       "<div>\n",
       "<style scoped>\n",
       "    .dataframe tbody tr th:only-of-type {\n",
       "        vertical-align: middle;\n",
       "    }\n",
       "\n",
       "    .dataframe tbody tr th {\n",
       "        vertical-align: top;\n",
       "    }\n",
       "\n",
       "    .dataframe thead th {\n",
       "        text-align: right;\n",
       "    }\n",
       "</style>\n",
       "<table border=\"1\" class=\"dataframe\">\n",
       "  <thead>\n",
       "    <tr style=\"text-align: right;\">\n",
       "      <th></th>\n",
       "      <th>Tokens</th>\n",
       "      <th>Predicted</th>\n",
       "      <th>True</th>\n",
       "    </tr>\n",
       "  </thead>\n",
       "  <tbody>\n",
       "    <tr>\n",
       "      <th>41</th>\n",
       "      <td>Oracle</td>\n",
       "      <td>U-Companies worked at</td>\n",
       "      <td>O</td>\n",
       "    </tr>\n",
       "    <tr>\n",
       "      <th>277</th>\n",
       "      <td>Oracle</td>\n",
       "      <td>O</td>\n",
       "      <td>-</td>\n",
       "    </tr>\n",
       "    <tr>\n",
       "      <th>278</th>\n",
       "      <td>Inc.</td>\n",
       "      <td>O</td>\n",
       "      <td>-</td>\n",
       "    </tr>\n",
       "    <tr>\n",
       "      <th>707</th>\n",
       "      <td>Relational</td>\n",
       "      <td>O</td>\n",
       "      <td>B-Skills</td>\n",
       "    </tr>\n",
       "    <tr>\n",
       "      <th>708</th>\n",
       "      <td>data</td>\n",
       "      <td>O</td>\n",
       "      <td>I-Skills</td>\n",
       "    </tr>\n",
       "    <tr>\n",
       "      <th>709</th>\n",
       "      <td>modeling</td>\n",
       "      <td>O</td>\n",
       "      <td>I-Skills</td>\n",
       "    </tr>\n",
       "    <tr>\n",
       "      <th>710</th>\n",
       "      <td>,</td>\n",
       "      <td>O</td>\n",
       "      <td>I-Skills</td>\n",
       "    </tr>\n",
       "    <tr>\n",
       "      <th>711</th>\n",
       "      <td>Object</td>\n",
       "      <td>O</td>\n",
       "      <td>I-Skills</td>\n",
       "    </tr>\n",
       "    <tr>\n",
       "      <th>712</th>\n",
       "      <td>Oriented</td>\n",
       "      <td>O</td>\n",
       "      <td>I-Skills</td>\n",
       "    </tr>\n",
       "    <tr>\n",
       "      <th>713</th>\n",
       "      <td>Modeling</td>\n",
       "      <td>O</td>\n",
       "      <td>I-Skills</td>\n",
       "    </tr>\n",
       "    <tr>\n",
       "      <th>714</th>\n",
       "      <td>&amp;</td>\n",
       "      <td>O</td>\n",
       "      <td>I-Skills</td>\n",
       "    </tr>\n",
       "    <tr>\n",
       "      <th>715</th>\n",
       "      <td>Design</td>\n",
       "      <td>O</td>\n",
       "      <td>I-Skills</td>\n",
       "    </tr>\n",
       "    <tr>\n",
       "      <th>716</th>\n",
       "      <td>,</td>\n",
       "      <td>O</td>\n",
       "      <td>I-Skills</td>\n",
       "    </tr>\n",
       "    <tr>\n",
       "      <th>717</th>\n",
       "      <td>UML</td>\n",
       "      <td>O</td>\n",
       "      <td>I-Skills</td>\n",
       "    </tr>\n",
       "    <tr>\n",
       "      <th>718</th>\n",
       "      <td>,</td>\n",
       "      <td>O</td>\n",
       "      <td>I-Skills</td>\n",
       "    </tr>\n",
       "    <tr>\n",
       "      <th>719</th>\n",
       "      <td>SOAP</td>\n",
       "      <td>O</td>\n",
       "      <td>L-Skills</td>\n",
       "    </tr>\n",
       "    <tr>\n",
       "      <th>732</th>\n",
       "      <td>SQL</td>\n",
       "      <td>O</td>\n",
       "      <td>B-Skills</td>\n",
       "    </tr>\n",
       "    <tr>\n",
       "      <th>733</th>\n",
       "      <td>,</td>\n",
       "      <td>O</td>\n",
       "      <td>I-Skills</td>\n",
       "    </tr>\n",
       "    <tr>\n",
       "      <th>734</th>\n",
       "      <td>PL</td>\n",
       "      <td>O</td>\n",
       "      <td>I-Skills</td>\n",
       "    </tr>\n",
       "    <tr>\n",
       "      <th>735</th>\n",
       "      <td>/</td>\n",
       "      <td>O</td>\n",
       "      <td>I-Skills</td>\n",
       "    </tr>\n",
       "    <tr>\n",
       "      <th>736</th>\n",
       "      <td>SQL</td>\n",
       "      <td>O</td>\n",
       "      <td>I-Skills</td>\n",
       "    </tr>\n",
       "    <tr>\n",
       "      <th>737</th>\n",
       "      <td>,</td>\n",
       "      <td>O</td>\n",
       "      <td>I-Skills</td>\n",
       "    </tr>\n",
       "    <tr>\n",
       "      <th>738</th>\n",
       "      <td>HTML</td>\n",
       "      <td>O</td>\n",
       "      <td>I-Skills</td>\n",
       "    </tr>\n",
       "    <tr>\n",
       "      <th>739</th>\n",
       "      <td>,</td>\n",
       "      <td>O</td>\n",
       "      <td>I-Skills</td>\n",
       "    </tr>\n",
       "    <tr>\n",
       "      <th>740</th>\n",
       "      <td>XML</td>\n",
       "      <td>O</td>\n",
       "      <td>I-Skills</td>\n",
       "    </tr>\n",
       "    <tr>\n",
       "      <th>741</th>\n",
       "      <td>,</td>\n",
       "      <td>O</td>\n",
       "      <td>I-Skills</td>\n",
       "    </tr>\n",
       "    <tr>\n",
       "      <th>742</th>\n",
       "      <td>JAVA</td>\n",
       "      <td>O</td>\n",
       "      <td>I-Skills</td>\n",
       "    </tr>\n",
       "    <tr>\n",
       "      <th>743</th>\n",
       "      <td>,</td>\n",
       "      <td>O</td>\n",
       "      <td>I-Skills</td>\n",
       "    </tr>\n",
       "    <tr>\n",
       "      <th>744</th>\n",
       "      <td>JDK</td>\n",
       "      <td>O</td>\n",
       "      <td>I-Skills</td>\n",
       "    </tr>\n",
       "    <tr>\n",
       "      <th>745</th>\n",
       "      <td>,</td>\n",
       "      <td>O</td>\n",
       "      <td>I-Skills</td>\n",
       "    </tr>\n",
       "    <tr>\n",
       "      <th>...</th>\n",
       "      <td>...</td>\n",
       "      <td>...</td>\n",
       "      <td>...</td>\n",
       "    </tr>\n",
       "    <tr>\n",
       "      <th>751</th>\n",
       "      <td>Oracle</td>\n",
       "      <td>O</td>\n",
       "      <td>I-Skills</td>\n",
       "    </tr>\n",
       "    <tr>\n",
       "      <th>752</th>\n",
       "      <td>JDeveloper</td>\n",
       "      <td>O</td>\n",
       "      <td>L-Skills</td>\n",
       "    </tr>\n",
       "    <tr>\n",
       "      <th>779</th>\n",
       "      <td>UNIX</td>\n",
       "      <td>O</td>\n",
       "      <td>-</td>\n",
       "    </tr>\n",
       "    <tr>\n",
       "      <th>780</th>\n",
       "      <td>,</td>\n",
       "      <td>O</td>\n",
       "      <td>-</td>\n",
       "    </tr>\n",
       "    <tr>\n",
       "      <th>781</th>\n",
       "      <td>Windows</td>\n",
       "      <td>O</td>\n",
       "      <td>-</td>\n",
       "    </tr>\n",
       "    <tr>\n",
       "      <th>782</th>\n",
       "      <td>,</td>\n",
       "      <td>O</td>\n",
       "      <td>-</td>\n",
       "    </tr>\n",
       "    <tr>\n",
       "      <th>783</th>\n",
       "      <td>Linux</td>\n",
       "      <td>O</td>\n",
       "      <td>-</td>\n",
       "    </tr>\n",
       "    <tr>\n",
       "      <th>784</th>\n",
       "      <td></td>\n",
       "      <td>O</td>\n",
       "      <td>-</td>\n",
       "    </tr>\n",
       "    <tr>\n",
       "      <th>834</th>\n",
       "      <td>Oracle</td>\n",
       "      <td>B-Companies worked at</td>\n",
       "      <td>O</td>\n",
       "    </tr>\n",
       "    <tr>\n",
       "      <th>835</th>\n",
       "      <td>Corporation</td>\n",
       "      <td>L-Companies worked at</td>\n",
       "      <td>O</td>\n",
       "    </tr>\n",
       "    <tr>\n",
       "      <th>852</th>\n",
       "      <td>M.S.</td>\n",
       "      <td>B-Degree</td>\n",
       "      <td>-</td>\n",
       "    </tr>\n",
       "    <tr>\n",
       "      <th>853</th>\n",
       "      <td>in</td>\n",
       "      <td>I-Degree</td>\n",
       "      <td>-</td>\n",
       "    </tr>\n",
       "    <tr>\n",
       "      <th>854</th>\n",
       "      <td>Computer</td>\n",
       "      <td>I-Degree</td>\n",
       "      <td>-</td>\n",
       "    </tr>\n",
       "    <tr>\n",
       "      <th>855</th>\n",
       "      <td>Engineering</td>\n",
       "      <td>L-Degree</td>\n",
       "      <td>-</td>\n",
       "    </tr>\n",
       "    <tr>\n",
       "      <th>856</th>\n",
       "      <td></td>\n",
       "      <td>O</td>\n",
       "      <td>-</td>\n",
       "    </tr>\n",
       "    <tr>\n",
       "      <th>868</th>\n",
       "      <td>B.S.</td>\n",
       "      <td>B-Degree</td>\n",
       "      <td>-</td>\n",
       "    </tr>\n",
       "    <tr>\n",
       "      <th>869</th>\n",
       "      <td>in</td>\n",
       "      <td>I-Degree</td>\n",
       "      <td>-</td>\n",
       "    </tr>\n",
       "    <tr>\n",
       "      <th>870</th>\n",
       "      <td>Electronics</td>\n",
       "      <td>I-Degree</td>\n",
       "      <td>-</td>\n",
       "    </tr>\n",
       "    <tr>\n",
       "      <th>871</th>\n",
       "      <td>&amp;</td>\n",
       "      <td>I-Degree</td>\n",
       "      <td>-</td>\n",
       "    </tr>\n",
       "    <tr>\n",
       "      <th>872</th>\n",
       "      <td>Communications</td>\n",
       "      <td>I-Degree</td>\n",
       "      <td>-</td>\n",
       "    </tr>\n",
       "    <tr>\n",
       "      <th>873</th>\n",
       "      <td>Engineering</td>\n",
       "      <td>L-Degree</td>\n",
       "      <td>-</td>\n",
       "    </tr>\n",
       "    <tr>\n",
       "      <th>874</th>\n",
       "      <td></td>\n",
       "      <td>O</td>\n",
       "      <td>-</td>\n",
       "    </tr>\n",
       "    <tr>\n",
       "      <th>882</th>\n",
       "      <td>SOFTWARE</td>\n",
       "      <td>B-Skills</td>\n",
       "      <td>O</td>\n",
       "    </tr>\n",
       "    <tr>\n",
       "      <th>883</th>\n",
       "      <td>DEVELOPMENT</td>\n",
       "      <td>L-Skills</td>\n",
       "      <td>O</td>\n",
       "    </tr>\n",
       "    <tr>\n",
       "      <th>889</th>\n",
       "      <td>STRUCTURED</td>\n",
       "      <td>B-Skills</td>\n",
       "      <td>O</td>\n",
       "    </tr>\n",
       "    <tr>\n",
       "      <th>890</th>\n",
       "      <td>SOFTWARE</td>\n",
       "      <td>L-Skills</td>\n",
       "      <td>O</td>\n",
       "    </tr>\n",
       "    <tr>\n",
       "      <th>896</th>\n",
       "      <td>BUSINESS</td>\n",
       "      <td>U-Skills</td>\n",
       "      <td>O</td>\n",
       "    </tr>\n",
       "    <tr>\n",
       "      <th>904</th>\n",
       "      <td>ORACLE</td>\n",
       "      <td>U-Skills</td>\n",
       "      <td>O</td>\n",
       "    </tr>\n",
       "    <tr>\n",
       "      <th>929</th>\n",
       "      <td>Oracle</td>\n",
       "      <td>U-Companies worked at</td>\n",
       "      <td>O</td>\n",
       "    </tr>\n",
       "    <tr>\n",
       "      <th>936</th>\n",
       "      <td>Oracle</td>\n",
       "      <td>U-Companies worked at</td>\n",
       "      <td>O</td>\n",
       "    </tr>\n",
       "  </tbody>\n",
       "</table>\n",
       "<p>65 rows × 3 columns</p>\n",
       "</div>"
      ],
      "text/plain": [
       "             Tokens              Predicted      True\n",
       "41           Oracle  U-Companies worked at         O\n",
       "277          Oracle                      O         -\n",
       "278            Inc.                      O         -\n",
       "707      Relational                      O  B-Skills\n",
       "708            data                      O  I-Skills\n",
       "709        modeling                      O  I-Skills\n",
       "710               ,                      O  I-Skills\n",
       "711          Object                      O  I-Skills\n",
       "712        Oriented                      O  I-Skills\n",
       "713        Modeling                      O  I-Skills\n",
       "714               &                      O  I-Skills\n",
       "715          Design                      O  I-Skills\n",
       "716               ,                      O  I-Skills\n",
       "717             UML                      O  I-Skills\n",
       "718               ,                      O  I-Skills\n",
       "719            SOAP                      O  L-Skills\n",
       "732             SQL                      O  B-Skills\n",
       "733               ,                      O  I-Skills\n",
       "734              PL                      O  I-Skills\n",
       "735               /                      O  I-Skills\n",
       "736             SQL                      O  I-Skills\n",
       "737               ,                      O  I-Skills\n",
       "738            HTML                      O  I-Skills\n",
       "739               ,                      O  I-Skills\n",
       "740             XML                      O  I-Skills\n",
       "741               ,                      O  I-Skills\n",
       "742            JAVA                      O  I-Skills\n",
       "743               ,                      O  I-Skills\n",
       "744             JDK                      O  I-Skills\n",
       "745               ,                      O  I-Skills\n",
       "..              ...                    ...       ...\n",
       "751          Oracle                      O  I-Skills\n",
       "752      JDeveloper                      O  L-Skills\n",
       "779            UNIX                      O         -\n",
       "780               ,                      O         -\n",
       "781         Windows                      O         -\n",
       "782               ,                      O         -\n",
       "783           Linux                      O         -\n",
       "784                                      O         -\n",
       "834          Oracle  B-Companies worked at         O\n",
       "835     Corporation  L-Companies worked at         O\n",
       "852            M.S.               B-Degree         -\n",
       "853              in               I-Degree         -\n",
       "854        Computer               I-Degree         -\n",
       "855     Engineering               L-Degree         -\n",
       "856                                      O         -\n",
       "868            B.S.               B-Degree         -\n",
       "869              in               I-Degree         -\n",
       "870     Electronics               I-Degree         -\n",
       "871               &               I-Degree         -\n",
       "872  Communications               I-Degree         -\n",
       "873     Engineering               L-Degree         -\n",
       "874                                      O         -\n",
       "882        SOFTWARE               B-Skills         O\n",
       "883     DEVELOPMENT               L-Skills         O\n",
       "889      STRUCTURED               B-Skills         O\n",
       "890        SOFTWARE               L-Skills         O\n",
       "896        BUSINESS               U-Skills         O\n",
       "904          ORACLE               U-Skills         O\n",
       "929          Oracle  U-Companies worked at         O\n",
       "936          Oracle  U-Companies worked at         O\n",
       "\n",
       "[65 rows x 3 columns]"
      ]
     },
     "metadata": {},
     "output_type": "display_data"
    }
   ],
   "source": [
    "## TODO find all rows in bilou_df where \"Predicted\" not equal to \"True\" column. \n",
    "diff_df = bilou_df[bilou_df[\"Predicted\"] != bilou_df[\"True\"]]\n",
    "display(diff_df)"
   ]
  },
  {
   "cell_type": "markdown",
   "metadata": {},
   "source": [
    "Now let's calculate the accuracy on all our test resumes and average them for an accuracy score. \n",
    "\n",
    "Please complete the code below to report an accuracy score on our test resumes"
   ]
  },
  {
   "cell_type": "code",
   "execution_count": 19,
   "metadata": {},
   "outputs": [
    {
     "name": "stdout",
     "output_type": "stream",
     "text": [
      "Accuracy:  0.8989647435628976\n"
     ]
    }
   ],
   "source": [
    "import numpy as np\n",
    "doc_accuracy = []\n",
    "for res in test:\n",
    "    ## TODO calculate accurac for each 'res' and append to doc_accuracy list \n",
    "    res_df = make_bilou_df(custom_nlp, res)\n",
    "    res_same_df = res_df[res_df[\"Predicted\"] == res_df[\"True\"]]\n",
    "    accuracy = float(len(res_same_df) / len(res_df))\n",
    "    doc_accuracy.append(accuracy)\n",
    "\n",
    "## TODO calculate mean/average of doc_accuracy (Tip: use numpy!)\n",
    "total_acc = np.mean(doc_accuracy)\n",
    "print(\"Accuracy: \",total_acc)\n"
   ]
  },
  {
   "cell_type": "markdown",
   "metadata": {},
   "source": [
    "##### Question: how does the model perform on token-level accuracy? What did it miss? In those cases where the predictions didn't match the gold standard, were the predictions plausible or just \"spurious\" (wrong)? \n",
    "*Answer here* "
   ]
  },
  {
   "cell_type": "markdown",
   "metadata": {},
   "source": [
    "##### Question: What might the advantages and disadvantages be of calculating accuracy on token-level? Hint: think about a document with 1000 tokens where only 10 tokens are annotated as entities. What might the accuracy be on such a document?  "
   ]
  },
  {
   "cell_type": "markdown",
   "metadata": {},
   "source": [
    "##### Entity-Level evaluation #####\n",
    "Another method of evaluating the performance of our NER model is to calculate metrics not on token-level, but on entity level. There is a good blog article that describes this method. \n",
    "\n",
    "http://www.davidsbatista.net/blog/2018/05/09/Named_Entity_Evaluation/\n",
    "\n",
    "The article goes into some detail, the most important part is the scenarios described in the section \"Comparing NER system output and golden standard\". "
   ]
  },
  {
   "cell_type": "markdown",
   "metadata": {},
   "source": [
    "##### Question: how do the first 3 scenarios described in the section \"Comparing NER system output and golden standard\" correlate to  true/false positives/negatives? \n",
    "*Answer here* "
   ]
  },
  {
   "cell_type": "markdown",
   "metadata": {},
   "source": [
    "##### Precision, Recall, F1 #####"
   ]
  },
  {
   "cell_type": "markdown",
   "metadata": {},
   "source": [
    "Now we would like to calculate precision, recall, and f1 for each entity type we are interested in (our chosen entities). To do this, we need to understand the formulas for each. A good article for this is https://skymind.ai/wiki/accuracy-precision-recall-f1. "
   ]
  },
  {
   "cell_type": "markdown",
   "metadata": {},
   "source": [
    "##### Question: how can we calculate precision, recall and f1 score based on the information above? Please provide the formulas for each #####\n",
    "*Answer here*\n",
    "\n",
    "Precision : number of correct positive results / number of positive results predicted by the classifier. Precision = TP / (TP + FP)\n",
    "\n",
    "Recall (sensitivity) : number of correct positive results / number of all relevant samples Recall = TP / (TP + FN)\n",
    "\n",
    "F1 Score : weighted average of the precision and recall scores. F1_score = (2 * precision * recall) / (precision + recall)"
   ]
  },
  {
   "cell_type": "markdown",
   "metadata": {},
   "source": [
    "Now supply code below which calculates precision and recall and F1 on our test data for each entity type we are interested in. \n",
    "\n"
   ]
  },
  {
   "cell_type": "code",
   "execution_count": 20,
   "metadata": {},
   "outputs": [
    {
     "name": "stdout",
     "output_type": "stream",
     "text": [
      "For label 'Skills' tp: 1133 fp: 1657 fn: 1515\n",
      "Precision:  0.4060931899641577\n",
      "Recall:  0.4278700906344411\n",
      "F1:  0.4166973151894079\n",
      "For label 'Degree' tp: 316 fp: 212 fn: 45\n",
      "Precision:  0.5984848484848485\n",
      "Recall:  0.8753462603878116\n",
      "F1:  0.7109111361079865\n",
      "For label 'Companies worked at' tp: 688 fp: 834 fn: 369\n",
      "Precision:  0.4520367936925099\n",
      "Recall:  0.6508987701040682\n",
      "F1:  0.5335401318340443\n"
     ]
    },
    {
     "data": {
      "text/html": [
       "<div>\n",
       "<style scoped>\n",
       "    .dataframe tbody tr th:only-of-type {\n",
       "        vertical-align: middle;\n",
       "    }\n",
       "\n",
       "    .dataframe tbody tr th {\n",
       "        vertical-align: top;\n",
       "    }\n",
       "\n",
       "    .dataframe thead th {\n",
       "        text-align: right;\n",
       "    }\n",
       "</style>\n",
       "<table border=\"1\" class=\"dataframe\">\n",
       "  <thead>\n",
       "    <tr style=\"text-align: right;\">\n",
       "      <th></th>\n",
       "      <th>Precision</th>\n",
       "      <th>Recall</th>\n",
       "      <th>f1</th>\n",
       "    </tr>\n",
       "  </thead>\n",
       "  <tbody>\n",
       "    <tr>\n",
       "      <th>Skills</th>\n",
       "      <td>0.406093</td>\n",
       "      <td>0.427870</td>\n",
       "      <td>0.416697</td>\n",
       "    </tr>\n",
       "    <tr>\n",
       "      <th>Degree</th>\n",
       "      <td>0.598485</td>\n",
       "      <td>0.875346</td>\n",
       "      <td>0.710911</td>\n",
       "    </tr>\n",
       "    <tr>\n",
       "      <th>Companies worked at</th>\n",
       "      <td>0.452037</td>\n",
       "      <td>0.650899</td>\n",
       "      <td>0.533540</td>\n",
       "    </tr>\n",
       "  </tbody>\n",
       "</table>\n",
       "</div>"
      ],
      "text/plain": [
       "                     Precision    Recall        f1\n",
       "Skills                0.406093  0.427870  0.416697\n",
       "Degree                0.598485  0.875346  0.710911\n",
       "Companies worked at   0.452037  0.650899  0.533540"
      ]
     },
     "metadata": {},
     "output_type": "display_data"
    }
   ],
   "source": [
    "## TODO cycle through chosen_entity_labels and calculate metrics for each entity using test data\n",
    "data = []\n",
    "for label in chosen_entity_labels:\n",
    "    ## variables to store results for all resumes for one entity type\n",
    "    true_positives = 0\n",
    "    false_positives = 0\n",
    "    false_negatives = 0\n",
    "    for tres in test:\n",
    "        ## use make_bilou_df on each resume in our test set, and calculate for each entity true and false positives,\n",
    "        ## and false negatives. \n",
    "        tres_df = make_bilou_df(custom_nlp, tres)\n",
    "        ## calculate true false positives and false negatives for each resume\n",
    "        tp = tres_df[(tres_df[\"Predicted\"]==tres_df[\"True\"]) & (tres_df[\"True\"].str.contains(label))]\n",
    "        fp = tres_df[(tres_df[\"Predicted\"]!=tres_df[\"True\"]) & (tres_df[\"Predicted\"].str.contains(label))]\n",
    "        fn = tres_df[(tres_df[\"Predicted\"]!=tres_df[\"True\"]) & (tres_df[\"True\"].str.contains(label))]\n",
    "        ## aggregate result for each resume to totals\n",
    "        true_positives += len(tp)\n",
    "        false_positives += len(fp)\n",
    "        false_negatives += len(fn)\n",
    "    \n",
    "    print(\"For label '{}' tp: {} fp: {} fn: {}\".format(label,true_positives,false_positives,false_negatives))\n",
    "    \n",
    "    ## TODO Use the formulas you learned to calculate metrics and print them out        \n",
    "    precision = 0.0 if true_positives == 0 else true_positives / (true_positives + false_positives)\n",
    "    recall = 0.0 if true_positives == 0 else true_positives / (true_positives + false_negatives)\n",
    "    f1 = 0.0 if precision + recall == 0 else (2 * precision * recall) / (precision + recall)\n",
    "    print(\"Precision: \",precision)\n",
    "    print(\"Recall: \",recall)\n",
    "    print(\"F1: \",f1)\n",
    "    row = [precision,recall,f1]\n",
    "    data.append(row)\n",
    "\n",
    "## make pandas dataframe with metrics data. Use the chosen entity labels as an index, and the metric names as columns. \n",
    "metric_df = pd.DataFrame(data, index=chosen_entity_labels, columns=[\"Precision\", \"Recall\", \"f1\"])\n",
    "display(metric_df)"
   ]
  },
  {
   "cell_type": "markdown",
   "metadata": {},
   "source": [
    "Now we compute an average score for each metric. "
   ]
  },
  {
   "cell_type": "code",
   "execution_count": 21,
   "metadata": {},
   "outputs": [
    {
     "name": "stdout",
     "output_type": "stream",
     "text": [
      "Average precision: 0.4855382773805053\n",
      "Average recall: 0.6513717070421069\n",
      "Average f1: 0.5537161943771463\n"
     ]
    }
   ],
   "source": [
    "## TODO compute average metrics And print them out. Use pandas dataframe \"mean\" method to do this\n",
    "print(\"Average precision:\", metric_df[\"Precision\"].mean())\n",
    "print(\"Average recall:\", metric_df[\"Recall\"].mean())\n",
    "print(\"Average f1:\", metric_df[\"f1\"].mean())"
   ]
  },
  {
   "cell_type": "markdown",
   "metadata": {},
   "source": [
    "##### Question: how do the average metrics here (computed on entity-level) compare to the token-level accuracy score above? Which metric(s) would you prefer to use to evaluate the quality of your model? Why? "
   ]
  },
  {
   "cell_type": "markdown",
   "metadata": {},
   "source": [
    "We are almost Done with part II! We just need to save our BILUO training data for reuse in Part III. For part III we are using flair and loading our data from a .csv file into a flair \"Corpus\". This is described here:\n",
    "\n",
    "https://github.com/zalandoresearch/flair/blob/master/resources/docs/TUTORIAL_6_CORPUS.md#reading-your-own-sequence-labeling-dataset\n",
    "\n",
    "\n",
    "We need to create \"train\" and \"test\" .csv files using our train and test dataset which corresponds to the format described above. This format is one line containing (minimally) a text token and a NER Tag. These should be separated by whitespace.\n",
    "\n",
    "\n",
    "\"Sentences\"\n",
    "Flair works with \"Sentences\" which is a list of tokens. If we simply write out our csv with one line for every token in our dataset, we will have 1 giant sentence with many thousands of words.. This is not what we want. We would like to partition our data so that we have a list of \"Sentences\" - corresponding to our intuition for a sentence - a sequence of words that belong together and is not all to long, usually separated by some punctuation. When we create our .csv strings/files, we need to do so so that they represent a list of sentences, each sentence consisting of a list of tokens/tags (each token/tag being one line in our csv).\n",
    "\n",
    "\n",
    "To do this, create a blank newline after each sentence.\n",
    "\n",
    "\n",
    "How you split your resume data into sentences is your decision however.\n",
    "\n",
    "\n",
    "Some starter code is provided below. Complete it to create two strings which you will save as .csv. Each file will be a (long) list of token/tag lines, with sentences separated by newlines."
   ]
  },
  {
   "cell_type": "code",
   "execution_count": 22,
   "metadata": {},
   "outputs": [
    {
     "name": "stdout",
     "output_type": "stream",
     "text": [
      "Make bilou dfs\n",
      "Done!\n",
      "Save Done!!!\n"
     ]
    }
   ],
   "source": [
    "def make_file(df):\n",
    "    ## TODO - remove unwanted whitespace and/or newline token rows from dataframe\n",
    "    regex = '^[ \\n\\r\\s\\d\\W]*$'\n",
    "    df = df.drop('Predicted', axis=1)\n",
    "    df = df[~df['Tokens'].str.contains(regex)]\n",
    "    df = pd.DataFrame({'sentences': df.iloc[:,:].apply(lambda x: ' '.join(x), axis=1)})\n",
    "        \n",
    "    ## TODO - insert newlines after each \"sentence\" \n",
    "        \n",
    "    ## You can use df.to_csv below to create a csv for your data\n",
    "    as_csv = df.to_csv(None, sep=\" \", encoding=\"utf-8\", index=False, header=False, line_terminator=\"\\n\\n\")\n",
    "        \n",
    "    for c in [' B-', ' L-', ' I-', ' U-']:\n",
    "        as_csv = as_csv.replace(c, ' ')\n",
    "        \n",
    "    return as_csv\n",
    "\n",
    "\n",
    "def bilou_for_flair(nlp, train, test):\n",
    "    \"\"\"\n",
    "    make .csv strings from train and test for use in flair\n",
    "    \"\"\"    \n",
    "    print(\"Make bilou dfs\")\n",
    "    ## makes a list of pandas dataframes, one for each resume. \n",
    "    training_data_as_bilou = [make_bilou_df(nlp,res) for res in train]\n",
    "    test_data_as_bilou = [make_bilou_df(nlp,res) for res in test]\n",
    "    print(\"Done!\")\n",
    "    ## strings to return\n",
    "    training_file = \"\"\n",
    "    test_file = \"\"\n",
    "    \n",
    "    for idx,df in enumerate(training_data_as_bilou):\n",
    "        ## training_file = TODO append csv string for each resume to big training file (dont forget newline after each)\n",
    "        training_file += make_file(df) + \"\\n\"\n",
    "        \n",
    "    for idx, df in enumerate(test_data_as_bilou):\n",
    "        ## TODO same as above but for testfile\n",
    "        test_file += make_file(df) + \"\\n\"\n",
    "        \n",
    "    return training_file.replace('\"', ''), test_file.replace('\"', '')\n",
    "\n",
    "training,test = bilou_for_flair(custom_nlp, train, test)\n",
    "## TODO save training and test as .csv (wherever you want)\n",
    "with open(\"./data/flair/train_res_bilou.txt\", 'w', encoding=\"utf-8\") as file:\n",
    "        file.write(training)\n",
    "        \n",
    "with open(\"./data/flair/test_res_bilou.txt\", 'w', encoding=\"utf-8\") as file:\n",
    "        file.write(test)\n",
    "\n",
    "print('Save Done!!!')"
   ]
  },
  {
   "cell_type": "markdown",
   "metadata": {},
   "source": [
    "Now let's load the data we persisted with flair before we go on"
   ]
  },
  {
   "cell_type": "code",
   "execution_count": 23,
   "metadata": {},
   "outputs": [
    {
     "name": "stdout",
     "output_type": "stream",
     "text": [
      "2019-06-18 18:21:48,857 Reading data from data/flair\n",
      "2019-06-18 18:21:48,858 Train: data/flair/train_res_bilou.txt\n",
      "2019-06-18 18:21:48,859 Dev: None\n",
      "2019-06-18 18:21:48,859 Test: data/flair/test_res_bilou.txt\n"
     ]
    },
    {
     "name": "stderr",
     "output_type": "stream",
     "text": [
      "/Library/Frameworks/Python.framework/Versions/3.7/lib/python3.7/site-packages/ipykernel_launcher.py:21: DeprecationWarning: Call to deprecated function (or staticmethod) load_column_corpus. (Use 'flair.datasets' instead.) -- Deprecated since version 0.4.1.\n",
      "/Library/Frameworks/Python.framework/Versions/3.7/lib/python3.7/site-packages/flair/data_fetcher.py:312: DeprecationWarning: Call to deprecated function (or staticmethod) read_column_data. (Use 'flair.datasets' instead.) -- Deprecated since version 0.4.1.\n",
      "  train_file, column_format\n",
      "/Library/Frameworks/Python.framework/Versions/3.7/lib/python3.7/site-packages/flair/data_fetcher.py:318: DeprecationWarning: Call to deprecated function (or staticmethod) read_column_data. (Use 'flair.datasets' instead.) -- Deprecated since version 0.4.1.\n",
      "  test_file, column_format\n"
     ]
    },
    {
     "name": "stdout",
     "output_type": "stream",
     "text": [
      "Corpus: 167449 train + 18606 dev + 48803 test sentences\n"
     ]
    }
   ],
   "source": [
    "# imports \n",
    "from flair.datasets import Corpus\n",
    "from flair.data_fetcher import NLPTaskDataFetcher\n",
    "\n",
    "# folder where training and test data are\n",
    "data_folder = './data/flair/'\n",
    "\n",
    "# your training file name\n",
    "train_file = \"train_res_bilou.txt\"\n",
    "\n",
    "# your training file name\n",
    "test_file = \"test_res_bilou.txt\"\n",
    "\n",
    "## TODO how is your file structured? {}\n",
    "columns = {0: 'token', 1: 'label'}\n",
    "\n",
    "\n",
    "## Now load our csv into flair corpus\n",
    "corpus = NLPTaskDataFetcher.load_column_corpus(data_folder,column_format=columns,\n",
    "                                               train_file=train_file,\n",
    "                                               test_file=test_file)\n",
    "print(corpus)"
   ]
  },
  {
   "cell_type": "markdown",
   "metadata": {},
   "source": [
    "If you could load the corpus without error, you are ready to go on to part 3, where we will work with flair nlp! "
   ]
  }
 ],
 "metadata": {
  "kernelspec": {
   "display_name": "Python 3",
   "language": "python",
   "name": "python3"
  },
  "language_info": {
   "codemirror_mode": {
    "name": "ipython",
    "version": 3
   },
   "file_extension": ".py",
   "mimetype": "text/x-python",
   "name": "python",
   "nbconvert_exporter": "python",
   "pygments_lexer": "ipython3",
   "version": "3.7.3"
  }
 },
 "nbformat": 4,
 "nbformat_minor": 1
}
